{
 "cells": [
  {
   "cell_type": "markdown",
   "id": "9c4070f3-d45f-48ca-93ae-a00bb893085b",
   "metadata": {},
   "source": [
    "# Invistico Airlines Project: 1st case\n",
    "**Objectives** \\\n",
    "*1st case* \\\n",
    "Invistico Airlines is interested in learning if a better inflight entertainment experience leads to higher customer satisfaction. They would like the construction and evaluation of a model that predicts whether a future customer would be satisfied with their services given previous customer feedback about their inflight entertainment experience. \n",
    "\n",
    "**Deliverables** \\\n",
    "The data is sample size of survey responses from 129,880 customers. It includes data points such as satisfaction, class, flight distance, and inflight entertainment, among others. It is an in-house product.\n",
    "\n",
    "*Models* \\\n",
    "(Since this project is a portfolio addition, the models are predetermined. Since this is a labelled data set, all models qualify as supervised.)\n",
    "\n",
    "1st case: **Binomial logistic regression model** (1st notebook)\\\n",
    "In the first case, the airline is interested in <u>learning</u> whether a better *inflight entertainment* experience leads to higher customer *satisfaction*. The outcome (dependent y variable) is *satisfaction* a categorical Boolean variable (yes or no). The selected predicting (independent X variable) is inflight entertainment. (In point of fact, many of the variables in the data set could be employed for the model. However, the results from the following tree-based models suggest that *inflight entertainment* is the most predictive variable.)\n",
    "For this task, a binomial logistic model (rather than linear) is appropriate. Binomial logistic regression is a statistical technique that models the probability of an event (*satisfaction*) based on one (or more) independent variables (*inflight entertainment*). The outcome must be a binary classification (satisfaction/dissatisfaction).  \n",
   ]
  },
  {
   "cell_type": "markdown",
   "id": "f525d106-8e86-4086-815c-ce65f16dd0c4",
   "metadata": {},
   "source": [
    "#### Import packages"
   ]
  },
  {
   "cell_type": "code",
   "execution_count": 1,
   "id": "86dcd437-7141-48b4-9247-336b4c9ac398",
   "metadata": {},
   "outputs": [],
   "source": [
    "# Import standard operational packages\n",
    "import numpy as np\n",
    "import pandas as pd\n",
    "\n",
    "# Import preprocessing, modeling, and evaluation packages\n",
    "from sklearn.model_selection import train_test_split, GridSearchCV\n",
    "from sklearn.linear_model import LogisticRegression\n",
    "from sklearn.tree import DecisionTreeClassifier\n",
    "from sklearn.metrics import recall_score, precision_score, f1_score, accuracy_score, classification_report\n",
    "\n",
    "# Import visualization package\n",
    "import matplotlib.pyplot as plt\n",
    "import seaborn as sns\n",
    "from sklearn.tree import plot_tree\n",
    "from sklearn.metrics import confusion_matrix, ConfusionMatrixDisplay, RocCurveDisplay, roc_auc_score\n",
    "\n",
    "# Set Jupyter to display all of the columns (no redaction)\n",
    "pd.set_option('display.max_columns', None)"
   ]
  },
  {
   "cell_type": "code",
   "execution_count": 2,
   "id": "8ef477a6-5f56-429a-af7d-fafd047fa04c",
   "metadata": {},
   "outputs": [
    {
     "data": {
      "text/html": [
       "<div>\n",
       "<style scoped>\n",
       "    .dataframe tbody tr th:only-of-type {\n",
       "        vertical-align: middle;\n",
       "    }\n",
       "\n",
       "    .dataframe tbody tr th {\n",
       "        vertical-align: top;\n",
       "    }\n",
       "\n",
       "    .dataframe thead th {\n",
       "        text-align: right;\n",
       "    }\n",
       "</style>\n",
       "<table border=\"1\" class=\"dataframe\">\n",
       "  <thead>\n",
       "    <tr style=\"text-align: right;\">\n",
       "      <th></th>\n",
       "      <th>satisfaction</th>\n",
       "      <th>Customer Type</th>\n",
       "      <th>Age</th>\n",
       "      <th>Type of Travel</th>\n",
       "      <th>Class</th>\n",
       "      <th>Flight Distance</th>\n",
       "      <th>Seat comfort</th>\n",
       "      <th>Departure/Arrival time convenient</th>\n",
       "      <th>Food and drink</th>\n",
       "      <th>Gate location</th>\n",
       "      <th>Inflight wifi service</th>\n",
       "      <th>Inflight entertainment</th>\n",
       "      <th>Online support</th>\n",
       "      <th>Ease of Online booking</th>\n",
       "      <th>On-board service</th>\n",
       "      <th>Leg room service</th>\n",
       "      <th>Baggage handling</th>\n",
       "      <th>Checkin service</th>\n",
       "      <th>Cleanliness</th>\n",
       "      <th>Online boarding</th>\n",
       "      <th>Departure Delay in Minutes</th>\n",
       "      <th>Arrival Delay in Minutes</th>\n",
       "    </tr>\n",
       "  </thead>\n",
       "  <tbody>\n",
       "    <tr>\n",
       "      <th>0</th>\n",
       "      <td>satisfied</td>\n",
       "      <td>Loyal Customer</td>\n",
       "      <td>65</td>\n",
       "      <td>Personal Travel</td>\n",
       "      <td>Eco</td>\n",
       "      <td>265</td>\n",
       "      <td>0</td>\n",
       "      <td>0</td>\n",
       "      <td>0</td>\n",
       "      <td>2</td>\n",
       "      <td>2</td>\n",
       "      <td>4</td>\n",
       "      <td>2</td>\n",
       "      <td>3</td>\n",
       "      <td>3</td>\n",
       "      <td>0</td>\n",
       "      <td>3</td>\n",
       "      <td>5</td>\n",
       "      <td>3</td>\n",
       "      <td>2</td>\n",
       "      <td>0</td>\n",
       "      <td>0.0</td>\n",
       "    </tr>\n",
       "    <tr>\n",
       "      <th>1</th>\n",
       "      <td>satisfied</td>\n",
       "      <td>Loyal Customer</td>\n",
       "      <td>47</td>\n",
       "      <td>Personal Travel</td>\n",
       "      <td>Business</td>\n",
       "      <td>2464</td>\n",
       "      <td>0</td>\n",
       "      <td>0</td>\n",
       "      <td>0</td>\n",
       "      <td>3</td>\n",
       "      <td>0</td>\n",
       "      <td>2</td>\n",
       "      <td>2</td>\n",
       "      <td>3</td>\n",
       "      <td>4</td>\n",
       "      <td>4</td>\n",
       "      <td>4</td>\n",
       "      <td>2</td>\n",
       "      <td>3</td>\n",
       "      <td>2</td>\n",
       "      <td>310</td>\n",
       "      <td>305.0</td>\n",
       "    </tr>\n",
       "    <tr>\n",
       "      <th>2</th>\n",
       "      <td>satisfied</td>\n",
       "      <td>Loyal Customer</td>\n",
       "      <td>15</td>\n",
       "      <td>Personal Travel</td>\n",
       "      <td>Eco</td>\n",
       "      <td>2138</td>\n",
       "      <td>0</td>\n",
       "      <td>0</td>\n",
       "      <td>0</td>\n",
       "      <td>3</td>\n",
       "      <td>2</td>\n",
       "      <td>0</td>\n",
       "      <td>2</td>\n",
       "      <td>2</td>\n",
       "      <td>3</td>\n",
       "      <td>3</td>\n",
       "      <td>4</td>\n",
       "      <td>4</td>\n",
       "      <td>4</td>\n",
       "      <td>2</td>\n",
       "      <td>0</td>\n",
       "      <td>0.0</td>\n",
       "    </tr>\n",
       "    <tr>\n",
       "      <th>3</th>\n",
       "      <td>satisfied</td>\n",
       "      <td>Loyal Customer</td>\n",
       "      <td>60</td>\n",
       "      <td>Personal Travel</td>\n",
       "      <td>Eco</td>\n",
       "      <td>623</td>\n",
       "      <td>0</td>\n",
       "      <td>0</td>\n",
       "      <td>0</td>\n",
       "      <td>3</td>\n",
       "      <td>3</td>\n",
       "      <td>4</td>\n",
       "      <td>3</td>\n",
       "      <td>1</td>\n",
       "      <td>1</td>\n",
       "      <td>0</td>\n",
       "      <td>1</td>\n",
       "      <td>4</td>\n",
       "      <td>1</td>\n",
       "      <td>3</td>\n",
       "      <td>0</td>\n",
       "      <td>0.0</td>\n",
       "    </tr>\n",
       "    <tr>\n",
       "      <th>4</th>\n",
       "      <td>satisfied</td>\n",
       "      <td>Loyal Customer</td>\n",
       "      <td>70</td>\n",
       "      <td>Personal Travel</td>\n",
       "      <td>Eco</td>\n",
       "      <td>354</td>\n",
       "      <td>0</td>\n",
       "      <td>0</td>\n",
       "      <td>0</td>\n",
       "      <td>3</td>\n",
       "      <td>4</td>\n",
       "      <td>3</td>\n",
       "      <td>4</td>\n",
       "      <td>2</td>\n",
       "      <td>2</td>\n",
       "      <td>0</td>\n",
       "      <td>2</td>\n",
       "      <td>4</td>\n",
       "      <td>2</td>\n",
       "      <td>5</td>\n",
       "      <td>0</td>\n",
       "      <td>0.0</td>\n",
       "    </tr>\n",
       "  </tbody>\n",
       "</table>\n",
       "</div>"
      ],
      "text/plain": [
       "  satisfaction   Customer Type  Age   Type of Travel     Class  \\\n",
       "0    satisfied  Loyal Customer   65  Personal Travel       Eco   \n",
       "1    satisfied  Loyal Customer   47  Personal Travel  Business   \n",
       "2    satisfied  Loyal Customer   15  Personal Travel       Eco   \n",
       "3    satisfied  Loyal Customer   60  Personal Travel       Eco   \n",
       "4    satisfied  Loyal Customer   70  Personal Travel       Eco   \n",
       "\n",
       "   Flight Distance  Seat comfort  Departure/Arrival time convenient  \\\n",
       "0              265             0                                  0   \n",
       "1             2464             0                                  0   \n",
       "2             2138             0                                  0   \n",
       "3              623             0                                  0   \n",
       "4              354             0                                  0   \n",
       "\n",
       "   Food and drink  Gate location  Inflight wifi service  \\\n",
       "0               0              2                      2   \n",
       "1               0              3                      0   \n",
       "2               0              3                      2   \n",
       "3               0              3                      3   \n",
       "4               0              3                      4   \n",
       "\n",
       "   Inflight entertainment  Online support  Ease of Online booking  \\\n",
       "0                       4               2                       3   \n",
       "1                       2               2                       3   \n",
       "2                       0               2                       2   \n",
       "3                       4               3                       1   \n",
       "4                       3               4                       2   \n",
       "\n",
       "   On-board service  Leg room service  Baggage handling  Checkin service  \\\n",
       "0                 3                 0                 3                5   \n",
       "1                 4                 4                 4                2   \n",
       "2                 3                 3                 4                4   \n",
       "3                 1                 0                 1                4   \n",
       "4                 2                 0                 2                4   \n",
       "\n",
       "   Cleanliness  Online boarding  Departure Delay in Minutes  \\\n",
       "0            3                2                           0   \n",
       "1            3                2                         310   \n",
       "2            4                2                           0   \n",
       "3            1                3                           0   \n",
       "4            2                5                           0   \n",
       "\n",
       "   Arrival Delay in Minutes  \n",
       "0                       0.0  \n",
       "1                     305.0  \n",
       "2                       0.0  \n",
       "3                       0.0  \n",
       "4                       0.0  "
      ]
     },
     "execution_count": 2,
     "metadata": {},
     "output_type": "execute_result"
    }
   ],
   "source": [
    "# Import data; create df\n",
    "df0 = pd.read_csv('Invistico_Airline.csv', on_bad_lines='skip')\n",
    "df0.head()"
   ]
  },
  {
   "cell_type": "markdown",
   "id": "6515d260-1326-4e05-ae6b-0096aad19894",
   "metadata": {},
   "source": [
    "## PART I: BASIC EDA\n",
    "Examine data for what it does and does not say"
   ]
  },
  {
   "cell_type": "code",
   "execution_count": 3,
   "id": "c1acb2c0-72e1-44cb-aee7-d1ca19d4f8fe",
   "metadata": {},
   "outputs": [
    {
     "name": "stdout",
     "output_type": "stream",
     "text": [
      "<class 'pandas.core.frame.DataFrame'>\n",
      "RangeIndex: 129880 entries, 0 to 129879\n",
      "Data columns (total 22 columns):\n",
      " #   Column                             Non-Null Count   Dtype  \n",
      "---  ------                             --------------   -----  \n",
      " 0   satisfaction                       129880 non-null  object \n",
      " 1   Customer Type                      129880 non-null  object \n",
      " 2   Age                                129880 non-null  int64  \n",
      " 3   Type of Travel                     129880 non-null  object \n",
      " 4   Class                              129880 non-null  object \n",
      " 5   Flight Distance                    129880 non-null  int64  \n",
      " 6   Seat comfort                       129880 non-null  int64  \n",
      " 7   Departure/Arrival time convenient  129880 non-null  int64  \n",
      " 8   Food and drink                     129880 non-null  int64  \n",
      " 9   Gate location                      129880 non-null  int64  \n",
      " 10  Inflight wifi service              129880 non-null  int64  \n",
      " 11  Inflight entertainment             129880 non-null  int64  \n",
      " 12  Online support                     129880 non-null  int64  \n",
      " 13  Ease of Online booking             129880 non-null  int64  \n",
      " 14  On-board service                   129880 non-null  int64  \n",
      " 15  Leg room service                   129880 non-null  int64  \n",
      " 16  Baggage handling                   129880 non-null  int64  \n",
      " 17  Checkin service                    129880 non-null  int64  \n",
      " 18  Cleanliness                        129880 non-null  int64  \n",
      " 19  Online boarding                    129880 non-null  int64  \n",
      " 20  Departure Delay in Minutes         129880 non-null  int64  \n",
      " 21  Arrival Delay in Minutes           129487 non-null  float64\n",
      "dtypes: float64(1), int64(17), object(4)\n",
      "memory usage: 21.8+ MB\n"
     ]
    }
   ],
   "source": [
    "# Investigate df\n",
    "df0.info()"
   ]
  },
  {
   "cell_type": "code",
   "execution_count": 4,
   "id": "7301e57c-3584-4e6a-b813-264c0a96d22b",
   "metadata": {},
   "outputs": [
    {
     "data": {
      "text/plain": [
       "Index(['satisfaction', 'Customer Type', 'Age', 'Type of Travel', 'Class',\n",
       "       'Flight Distance', 'Seat comfort', 'Departure/Arrival time convenient',\n",
       "       'Food and drink', 'Gate location', 'Inflight wifi service',\n",
       "       'Inflight entertainment', 'Online support', 'Ease of Online booking',\n",
       "       'On-board service', 'Leg room service', 'Baggage handling',\n",
       "       'Checkin service', 'Cleanliness', 'Online boarding',\n",
       "       'Departure Delay in Minutes', 'Arrival Delay in Minutes'],\n",
       "      dtype='object')"
      ]
     },
     "execution_count": 4,
     "metadata": {},
     "output_type": "execute_result"
    }
   ],
   "source": [
    "df0.columns"
   ]
  },
  {
   "cell_type": "code",
   "execution_count": 5,
   "id": "5b5ec1ca-0da6-4dd9-927a-caaca591d7ce",
   "metadata": {},
   "outputs": [
    {
     "data": {
      "text/html": [
       "<div>\n",
       "<style scoped>\n",
       "    .dataframe tbody tr th:only-of-type {\n",
       "        vertical-align: middle;\n",
       "    }\n",
       "\n",
       "    .dataframe tbody tr th {\n",
       "        vertical-align: top;\n",
       "    }\n",
       "\n",
       "    .dataframe thead th {\n",
       "        text-align: right;\n",
       "    }\n",
       "</style>\n",
       "<table border=\"1\" class=\"dataframe\">\n",
       "  <thead>\n",
       "    <tr style=\"text-align: right;\">\n",
       "      <th></th>\n",
       "      <th>Age</th>\n",
       "      <th>Flight Distance</th>\n",
       "      <th>Seat comfort</th>\n",
       "      <th>Departure/Arrival time convenient</th>\n",
       "      <th>Food and drink</th>\n",
       "      <th>Gate location</th>\n",
       "      <th>Inflight wifi service</th>\n",
       "      <th>Inflight entertainment</th>\n",
       "      <th>Online support</th>\n",
       "      <th>Ease of Online booking</th>\n",
       "      <th>On-board service</th>\n",
       "      <th>Leg room service</th>\n",
       "      <th>Baggage handling</th>\n",
       "      <th>Checkin service</th>\n",
       "      <th>Cleanliness</th>\n",
       "      <th>Online boarding</th>\n",
       "      <th>Departure Delay in Minutes</th>\n",
       "      <th>Arrival Delay in Minutes</th>\n",
       "    </tr>\n",
       "  </thead>\n",
       "  <tbody>\n",
       "    <tr>\n",
       "      <th>count</th>\n",
       "      <td>129880.000000</td>\n",
       "      <td>129880.000000</td>\n",
       "      <td>129880.000000</td>\n",
       "      <td>129880.000000</td>\n",
       "      <td>129880.000000</td>\n",
       "      <td>129880.000000</td>\n",
       "      <td>129880.000000</td>\n",
       "      <td>129880.000000</td>\n",
       "      <td>129880.000000</td>\n",
       "      <td>129880.000000</td>\n",
       "      <td>129880.000000</td>\n",
       "      <td>129880.000000</td>\n",
       "      <td>129880.000000</td>\n",
       "      <td>129880.000000</td>\n",
       "      <td>129880.000000</td>\n",
       "      <td>129880.000000</td>\n",
       "      <td>129880.000000</td>\n",
       "      <td>129487.000000</td>\n",
       "    </tr>\n",
       "    <tr>\n",
       "      <th>mean</th>\n",
       "      <td>39.427957</td>\n",
       "      <td>1981.409055</td>\n",
       "      <td>2.838597</td>\n",
       "      <td>2.990645</td>\n",
       "      <td>2.851994</td>\n",
       "      <td>2.990422</td>\n",
       "      <td>3.249130</td>\n",
       "      <td>3.383477</td>\n",
       "      <td>3.519703</td>\n",
       "      <td>3.472105</td>\n",
       "      <td>3.465075</td>\n",
       "      <td>3.485902</td>\n",
       "      <td>3.695673</td>\n",
       "      <td>3.340807</td>\n",
       "      <td>3.705759</td>\n",
       "      <td>3.352587</td>\n",
       "      <td>14.713713</td>\n",
       "      <td>15.091129</td>\n",
       "    </tr>\n",
       "    <tr>\n",
       "      <th>std</th>\n",
       "      <td>15.119360</td>\n",
       "      <td>1027.115606</td>\n",
       "      <td>1.392983</td>\n",
       "      <td>1.527224</td>\n",
       "      <td>1.443729</td>\n",
       "      <td>1.305970</td>\n",
       "      <td>1.318818</td>\n",
       "      <td>1.346059</td>\n",
       "      <td>1.306511</td>\n",
       "      <td>1.305560</td>\n",
       "      <td>1.270836</td>\n",
       "      <td>1.292226</td>\n",
       "      <td>1.156483</td>\n",
       "      <td>1.260582</td>\n",
       "      <td>1.151774</td>\n",
       "      <td>1.298715</td>\n",
       "      <td>38.071126</td>\n",
       "      <td>38.465650</td>\n",
       "    </tr>\n",
       "    <tr>\n",
       "      <th>min</th>\n",
       "      <td>7.000000</td>\n",
       "      <td>50.000000</td>\n",
       "      <td>0.000000</td>\n",
       "      <td>0.000000</td>\n",
       "      <td>0.000000</td>\n",
       "      <td>0.000000</td>\n",
       "      <td>0.000000</td>\n",
       "      <td>0.000000</td>\n",
       "      <td>0.000000</td>\n",
       "      <td>0.000000</td>\n",
       "      <td>0.000000</td>\n",
       "      <td>0.000000</td>\n",
       "      <td>1.000000</td>\n",
       "      <td>0.000000</td>\n",
       "      <td>0.000000</td>\n",
       "      <td>0.000000</td>\n",
       "      <td>0.000000</td>\n",
       "      <td>0.000000</td>\n",
       "    </tr>\n",
       "    <tr>\n",
       "      <th>25%</th>\n",
       "      <td>27.000000</td>\n",
       "      <td>1359.000000</td>\n",
       "      <td>2.000000</td>\n",
       "      <td>2.000000</td>\n",
       "      <td>2.000000</td>\n",
       "      <td>2.000000</td>\n",
       "      <td>2.000000</td>\n",
       "      <td>2.000000</td>\n",
       "      <td>3.000000</td>\n",
       "      <td>2.000000</td>\n",
       "      <td>3.000000</td>\n",
       "      <td>2.000000</td>\n",
       "      <td>3.000000</td>\n",
       "      <td>3.000000</td>\n",
       "      <td>3.000000</td>\n",
       "      <td>2.000000</td>\n",
       "      <td>0.000000</td>\n",
       "      <td>0.000000</td>\n",
       "    </tr>\n",
       "    <tr>\n",
       "      <th>50%</th>\n",
       "      <td>40.000000</td>\n",
       "      <td>1925.000000</td>\n",
       "      <td>3.000000</td>\n",
       "      <td>3.000000</td>\n",
       "      <td>3.000000</td>\n",
       "      <td>3.000000</td>\n",
       "      <td>3.000000</td>\n",
       "      <td>4.000000</td>\n",
       "      <td>4.000000</td>\n",
       "      <td>4.000000</td>\n",
       "      <td>4.000000</td>\n",
       "      <td>4.000000</td>\n",
       "      <td>4.000000</td>\n",
       "      <td>3.000000</td>\n",
       "      <td>4.000000</td>\n",
       "      <td>4.000000</td>\n",
       "      <td>0.000000</td>\n",
       "      <td>0.000000</td>\n",
       "    </tr>\n",
       "    <tr>\n",
       "      <th>75%</th>\n",
       "      <td>51.000000</td>\n",
       "      <td>2544.000000</td>\n",
       "      <td>4.000000</td>\n",
       "      <td>4.000000</td>\n",
       "      <td>4.000000</td>\n",
       "      <td>4.000000</td>\n",
       "      <td>4.000000</td>\n",
       "      <td>4.000000</td>\n",
       "      <td>5.000000</td>\n",
       "      <td>5.000000</td>\n",
       "      <td>4.000000</td>\n",
       "      <td>5.000000</td>\n",
       "      <td>5.000000</td>\n",
       "      <td>4.000000</td>\n",
       "      <td>5.000000</td>\n",
       "      <td>4.000000</td>\n",
       "      <td>12.000000</td>\n",
       "      <td>13.000000</td>\n",
       "    </tr>\n",
       "    <tr>\n",
       "      <th>max</th>\n",
       "      <td>85.000000</td>\n",
       "      <td>6951.000000</td>\n",
       "      <td>5.000000</td>\n",
       "      <td>5.000000</td>\n",
       "      <td>5.000000</td>\n",
       "      <td>5.000000</td>\n",
       "      <td>5.000000</td>\n",
       "      <td>5.000000</td>\n",
       "      <td>5.000000</td>\n",
       "      <td>5.000000</td>\n",
       "      <td>5.000000</td>\n",
       "      <td>5.000000</td>\n",
       "      <td>5.000000</td>\n",
       "      <td>5.000000</td>\n",
       "      <td>5.000000</td>\n",
       "      <td>5.000000</td>\n",
       "      <td>1592.000000</td>\n",
       "      <td>1584.000000</td>\n",
       "    </tr>\n",
       "  </tbody>\n",
       "</table>\n",
       "</div>"
      ],
      "text/plain": [
       "                 Age  Flight Distance   Seat comfort  \\\n",
       "count  129880.000000    129880.000000  129880.000000   \n",
       "mean       39.427957      1981.409055       2.838597   \n",
       "std        15.119360      1027.115606       1.392983   \n",
       "min         7.000000        50.000000       0.000000   \n",
       "25%        27.000000      1359.000000       2.000000   \n",
       "50%        40.000000      1925.000000       3.000000   \n",
       "75%        51.000000      2544.000000       4.000000   \n",
       "max        85.000000      6951.000000       5.000000   \n",
       "\n",
       "       Departure/Arrival time convenient  Food and drink  Gate location  \\\n",
       "count                      129880.000000   129880.000000  129880.000000   \n",
       "mean                            2.990645        2.851994       2.990422   \n",
       "std                             1.527224        1.443729       1.305970   \n",
       "min                             0.000000        0.000000       0.000000   \n",
       "25%                             2.000000        2.000000       2.000000   \n",
       "50%                             3.000000        3.000000       3.000000   \n",
       "75%                             4.000000        4.000000       4.000000   \n",
       "max                             5.000000        5.000000       5.000000   \n",
       "\n",
       "       Inflight wifi service  Inflight entertainment  Online support  \\\n",
       "count          129880.000000           129880.000000   129880.000000   \n",
       "mean                3.249130                3.383477        3.519703   \n",
       "std                 1.318818                1.346059        1.306511   \n",
       "min                 0.000000                0.000000        0.000000   \n",
       "25%                 2.000000                2.000000        3.000000   \n",
       "50%                 3.000000                4.000000        4.000000   \n",
       "75%                 4.000000                4.000000        5.000000   \n",
       "max                 5.000000                5.000000        5.000000   \n",
       "\n",
       "       Ease of Online booking  On-board service  Leg room service  \\\n",
       "count           129880.000000     129880.000000     129880.000000   \n",
       "mean                 3.472105          3.465075          3.485902   \n",
       "std                  1.305560          1.270836          1.292226   \n",
       "min                  0.000000          0.000000          0.000000   \n",
       "25%                  2.000000          3.000000          2.000000   \n",
       "50%                  4.000000          4.000000          4.000000   \n",
       "75%                  5.000000          4.000000          5.000000   \n",
       "max                  5.000000          5.000000          5.000000   \n",
       "\n",
       "       Baggage handling  Checkin service    Cleanliness  Online boarding  \\\n",
       "count     129880.000000    129880.000000  129880.000000    129880.000000   \n",
       "mean           3.695673         3.340807       3.705759         3.352587   \n",
       "std            1.156483         1.260582       1.151774         1.298715   \n",
       "min            1.000000         0.000000       0.000000         0.000000   \n",
       "25%            3.000000         3.000000       3.000000         2.000000   \n",
       "50%            4.000000         3.000000       4.000000         4.000000   \n",
       "75%            5.000000         4.000000       5.000000         4.000000   \n",
       "max            5.000000         5.000000       5.000000         5.000000   \n",
       "\n",
       "       Departure Delay in Minutes  Arrival Delay in Minutes  \n",
       "count               129880.000000             129487.000000  \n",
       "mean                    14.713713                 15.091129  \n",
       "std                     38.071126                 38.465650  \n",
       "min                      0.000000                  0.000000  \n",
       "25%                      0.000000                  0.000000  \n",
       "50%                      0.000000                  0.000000  \n",
       "75%                     12.000000                 13.000000  \n",
       "max                   1592.000000               1584.000000  "
      ]
     },
     "execution_count": 5,
     "metadata": {},
     "output_type": "execute_result"
    }
   ],
   "source": [
    "# Get basic statistics\n",
    "df0.describe()"
   ]
  },
  {
   "cell_type": "markdown",
   "id": "44b7aa14-28b2-4918-aa34-2b9d0f758558",
   "metadata": {},
   "source": [
    "#### Initial summary\n",
    "df has 22 variables (cols) and 129880 observations (rows)<br>\n",
    "columns can be divided: \n",
    "- 4 categorical object: 'satisfaction', 'Customer Type', 'Type of Travel', 'Class'\n",
    "- 17 discrete int64: 'Age', 'Flight Distance', 'Seat comfort', 'Departure/Arrival time convenient',\n",
    "       'Food and drink', 'Gate location', 'Inflight wifi service',\n",
    "       'Inflight entertainment', 'Online support', 'Ease of Online booking',\n",
    "       'On-board service', 'Leg room service', 'Baggage handling',\n",
    "       'Checkin service', 'Cleanliness', 'Online boarding',\n",
    "       'Departure Delay in Minutes'\n",
    "- 1 continuous float64: 'Arrival Delay in Minutes' - not immediately evident why this not the same dtype as Departure Delay\n",
    "\n",
    "Target variable will be satisfaction, because goal is to construct and evaluate a model that predicts whether a future customer would be *satisfied* with their services given previous customer feedback about their flight experience.\n",
    "Since Boolean, will use Inflight entertainment as X for this model, but, really, all would be affecting. Target variable will need to be encoded.\n",
    "\n",
    "- Arrival Delay in Minutes is missing 393 entries \n",
    "- Scale for quality columns 'Seat comfort', 'Departure/Arrival time convenient', 'Food and drink', 'Gate location', 'Inflight wifi service', 'Inflight entertainment', 'Online support', 'Ease of Online booking', 'On-board service', 'Leg room service', 'Baggage handling', 'Checkin service', 'Cleanliness', 'Online boarding' is 1-5\n",
    "- Age ranges from 7 > 85 yrs old; with a median age of 40\n",
    "- Departure Delay in Minutes has a a min delay of 0 mins, and a max delay of 1592(~ 26.53hrs)\n",
    "- Arrival Delay in Minutes has a min delay of 0 mins, and a max delay of 1584(26.4hrs)\t"
   ]
  },
  {
   "cell_type": "markdown",
   "id": "5febc265-c1d8-4592-b4f9-dfb34c4e0189",
   "metadata": {},
   "source": [
    "#### Output unique values \n",
    "Further investigate categorical variables: 'satisfaction', 'Customer Type', 'Type of Travel', 'Class'"
   ]
  },
  {
   "cell_type": "code",
   "execution_count": 6,
   "id": "d10aa321-719b-49d1-bbd9-3bc1c62d7e15",
   "metadata": {},
   "outputs": [
    {
     "name": "stdout",
     "output_type": "stream",
     "text": [
      "satisfaction\n",
      "['satisfied' 'dissatisfied']\n",
      "Customer Type\n",
      "['Loyal Customer' 'disloyal Customer']\n",
      "Type of Travel\n",
      "['Personal Travel' 'Business travel']\n",
      "Class\n",
      "['Eco' 'Business' 'Eco Plus']\n"
     ]
    }
   ],
   "source": [
    "print('satisfaction')\n",
    "print(df0['satisfaction'].unique())\n",
    "print('Customer Type')\n",
    "print(df0['Customer Type'].unique())\n",
    "print('Type of Travel')\n",
    "print(df0['Type of Travel'].unique())\n",
    "print('Class')\n",
    "print(df0['Class'].unique())"
   ]
  },
  {
   "cell_type": "code",
   "execution_count": 7,
   "id": "b6bbc4d0-3b72-4ead-a3dd-73d6a23e0f73",
   "metadata": {},
   "outputs": [
    {
     "name": "stdout",
     "output_type": "stream",
     "text": [
      "satisfaction\n",
      "satisfied       71087\n",
      "dissatisfied    58793\n",
      "Name: count, dtype: int64\n",
      "satisfaction\n",
      "satisfied       0.547328\n",
      "dissatisfied    0.452672\n",
      "Name: proportion, dtype: float64\n"
     ]
    }
   ],
   "source": [
    "# Check class balance for target variable: satisfaction\n",
    "print (df0['satisfaction'].value_counts())\n",
    "print (df0['satisfaction'].value_counts(normalize=True))"
   ]
  },
  {
   "cell_type": "code",
   "execution_count": 8,
   "id": "4b6a80f6-50c5-462c-9441-ef2ef3a0c436",
   "metadata": {},
   "outputs": [
    {
     "name": "stdout",
     "output_type": "stream",
     "text": [
      "Customer Type\n",
      "Loyal Customer       106100\n",
      "disloyal Customer     23780\n",
      "Name: count, dtype: int64\n",
      "Customer Type\n",
      "Loyal Customer       0.816908\n",
      "disloyal Customer    0.183092\n",
      "Name: proportion, dtype: float64\n"
     ]
    }
   ],
   "source": [
    "# Check class balance for Customer Type\n",
    "print (df0['Customer Type'].value_counts())\n",
    "print (df0['Customer Type'].value_counts(normalize=True))"
   ]
  },
  {
   "cell_type": "code",
   "execution_count": 9,
   "id": "acd8fd21-c7a4-412a-9d7f-93af253b4bd7",
   "metadata": {},
   "outputs": [
    {
     "name": "stdout",
     "output_type": "stream",
     "text": [
      "Type of Travel\n",
      "Business travel    89693\n",
      "Personal Travel    40187\n",
      "Name: count, dtype: int64\n",
      "Type of Travel\n",
      "Business travel    0.690584\n",
      "Personal Travel    0.309416\n",
      "Name: proportion, dtype: float64\n"
     ]
    }
   ],
   "source": [
    "# Check class balance for Type of Travel\n",
    "print (df0['Type of Travel'].value_counts())\n",
    "print (df0['Type of Travel'].value_counts(normalize=True))"
   ]
  },
  {
   "cell_type": "code",
   "execution_count": 10,
   "id": "e2da5269-ba26-4e09-aa95-733113222e4a",
   "metadata": {},
   "outputs": [
    {
     "name": "stdout",
     "output_type": "stream",
     "text": [
      "Class\n",
      "Business    62160\n",
      "Eco         58309\n",
      "Eco Plus     9411\n",
      "Name: count, dtype: int64\n",
      "Class\n",
      "Business    0.478596\n",
      "Eco         0.448945\n",
      "Eco Plus    0.072459\n",
      "Name: proportion, dtype: float64\n"
     ]
    }
   ],
   "source": [
    "# Check class balance for Class\n",
    "print (df0['Class'].value_counts())\n",
    "print (df0['Class'].value_counts(normalize=True))"
   ]
  },
  {
   "cell_type": "markdown",
   "id": "6eb0de1c-ad39-47f0-bce0-9c325babc0f5",
   "metadata": {},
   "source": [
    "#### Summary\n",
    "For this task, a binomial logistic model (rather than linear) is appropriate. Binomial logistic regression is a statistical technique that models the probability of an event (*satisfaction*) based on one (or more) independent variables (*inflight entertainment*). The outcome must be binary (satisfaction/dissatisfaction). 'Inflight entertainment' will be the independent X which will help predict(logistic) whether the person is satisfied (1) or dissatisfied (0) The model will calculate a probability that given a particular value of Inflight entertainment(X), the person is satisfied(y).\n",
    "\n",
    "**satisfaction: 2 choices** will be used as target variable (y)\n",
    "- satisfied       71087 (~0.55%)\n",
    "- dissatisfied    58793 (~0.45%)\n",
    "\n",
    "*Customer Type: 2 choices*\n",
    "- Loyal Customer        106100 (~0.82%)\n",
    "- disloyal Customer     23780 (~0.18%)\n",
    "\n",
    "*Type of Travel: 2 choices*\n",
    "- Business travel    89693 (~0.69%)\n",
    "- Personal Travel    40187 (~0.31%)\n",
    "\n",
    "*Class: 3 choices*\n",
    "- Business    62160 (~0.48%)\n",
    "- Eco         58309 (~0.45%)\n",
    "- Eco Plus     9411 (~0.072%)\n",
    "\n",
    "- 'satisfaction' will need to be encoded to plot reg plot later\n",
    "- 'Customer Type', 'Type of Travel', 'Class' for will need to be encoded for ML models"
   ]
  },
  {
   "cell_type": "markdown",
   "id": "649c1b04-9b24-42bf-ae43-3de1348d12af",
   "metadata": {},
   "source": [
    "#### Clean and Transform Data\n",
    "Logistic regression requires no missing values – so, be tidy, even if the column won’t be used in final regression\\\n",
    "Also, as can be seen below:\n",
    "- There are only a small % of missing values (393 out of the total of 129,880)\n",
    "- Arrival Delay in Minutes might impact the relationship between entertainment and satisfaction"
   ]
  },
  {
   "cell_type": "code",
   "execution_count": 11,
   "id": "672bab88-41e6-4a29-8b29-a9384e8583e8",
   "metadata": {},
   "outputs": [
    {
     "name": "stdout",
     "output_type": "stream",
     "text": [
      "satisfaction                           0\n",
      "Customer Type                          0\n",
      "Age                                    0\n",
      "Type of Travel                         0\n",
      "Class                                  0\n",
      "Flight Distance                        0\n",
      "Seat comfort                           0\n",
      "Departure/Arrival time convenient      0\n",
      "Food and drink                         0\n",
      "Gate location                          0\n",
      "Inflight wifi service                  0\n",
      "Inflight entertainment                 0\n",
      "Online support                         0\n",
      "Ease of Online booking                 0\n",
      "On-board service                       0\n",
      "Leg room service                       0\n",
      "Baggage handling                       0\n",
      "Checkin service                        0\n",
      "Cleanliness                            0\n",
      "Online boarding                        0\n",
      "Departure Delay in Minutes             0\n",
      "Arrival Delay in Minutes             393\n",
      "dtype: int64\n"
     ]
    },
    {
     "data": {
      "text/plain": [
       "(129880, 22)"
      ]
     },
     "execution_count": 11,
     "metadata": {},
     "output_type": "execute_result"
    }
   ],
   "source": [
    "# Check for missing values\n",
    "print(df0.isnull().sum())\n",
    "df0.shape"
   ]
  },
  {
   "cell_type": "code",
   "execution_count": 12,
   "id": "26cf6c1a-48dc-4bd3-b160-8262bab419bf",
   "metadata": {},
   "outputs": [
    {
     "data": {
      "text/plain": [
       "satisfaction                         0\n",
       "Customer Type                        0\n",
       "Age                                  0\n",
       "Type of Travel                       0\n",
       "Class                                0\n",
       "Flight Distance                      0\n",
       "Seat comfort                         0\n",
       "Departure/Arrival time convenient    0\n",
       "Food and drink                       0\n",
       "Gate location                        0\n",
       "Inflight wifi service                0\n",
       "Inflight entertainment               0\n",
       "Online support                       0\n",
       "Ease of Online booking               0\n",
       "On-board service                     0\n",
       "Leg room service                     0\n",
       "Baggage handling                     0\n",
       "Checkin service                      0\n",
       "Cleanliness                          0\n",
       "Online boarding                      0\n",
       "Departure Delay in Minutes           0\n",
       "Arrival Delay in Minutes             0\n",
       "dtype: int64"
      ]
     },
     "execution_count": 12,
     "metadata": {},
     "output_type": "execute_result"
    }
   ],
   "source": [
    "# Drop nas, create new df\n",
    "# Set the axis=0 for rows containing missing values (1 for columns)\n",
    "df = df0.dropna(axis=0).reset_index(drop = True) #reset_index = True to avoid a SettingWithCopy warning later in nbk\n",
    "df.isnull().sum()"
   ]
  },
  {
   "cell_type": "code",
   "execution_count": 13,
   "id": "4f87092d-c0c1-4e68-992c-498bef598597",
   "metadata": {},
   "outputs": [
    {
     "data": {
      "text/plain": [
       "(129487, 22)"
      ]
     },
     "execution_count": 13,
     "metadata": {},
     "output_type": "execute_result"
    }
   ],
   "source": [
    "df.shape"
   ]
  },
  {
   "cell_type": "code",
   "execution_count": 14,
   "id": "7cb98581-22bd-4fcd-8327-63bf434404ac",
   "metadata": {},
   "outputs": [
    {
     "data": {
      "text/plain": [
       "Index(['Satisfaction', 'Customer Type', 'Age', 'Type of Travel', 'Class',\n",
       "       'Flight Distance', 'Seat comfort', 'Departure/Arrival time convenient',\n",
       "       'Food and drink', 'Gate location', 'Inflight wifi service',\n",
       "       'Inflight entertainment', 'Online support', 'Ease of Online booking',\n",
       "       'On-board service', 'Leg room service', 'Baggage handling',\n",
       "       'Checkin service', 'Cleanliness', 'Online boarding',\n",
       "       'Departure Delay in Minutes', 'Arrival Delay in Minutes'],\n",
       "      dtype='object')"
      ]
     },
     "execution_count": 14,
     "metadata": {},
     "output_type": "execute_result"
    }
   ],
   "source": [
    "# Rename satisfaction > Satisfaction, because it bugs me\n",
    "df = df.rename(columns={'satisfaction': 'Satisfaction'})\n",
    "df.columns"
   ]
  },
  {
   "cell_type": "code",
   "execution_count": 15,
   "id": "d5608197-829b-4cad-b3a1-5a4743e477b5",
   "metadata": {},
   "outputs": [
    {
     "data": {
      "text/plain": [
       "Satisfaction                          object\n",
       "Customer Type                         object\n",
       "Age                                    int64\n",
       "Type of Travel                        object\n",
       "Class                                 object\n",
       "Flight Distance                        int64\n",
       "Seat comfort                           int64\n",
       "Departure/Arrival time convenient      int64\n",
       "Food and drink                         int64\n",
       "Gate location                          int64\n",
       "Inflight wifi service                  int64\n",
       "Inflight entertainment               float64\n",
       "Online support                         int64\n",
       "Ease of Online booking                 int64\n",
       "On-board service                       int64\n",
       "Leg room service                       int64\n",
       "Baggage handling                       int64\n",
       "Checkin service                        int64\n",
       "Cleanliness                            int64\n",
       "Online boarding                        int64\n",
       "Departure Delay in Minutes             int64\n",
       "Arrival Delay in Minutes             float64\n",
       "dtype: object"
      ]
     },
     "execution_count": 15,
     "metadata": {},
     "output_type": "execute_result"
    }
   ],
   "source": [
    "# Retype Inflight entertainment as float\n",
    "df = df.astype({'Inflight entertainment': float})\n",
    "df.dtypes"
   ]
  },
  {
   "cell_type": "markdown",
   "id": "2298d38a-02cd-4831-ad5d-66dafa24d684",
   "metadata": {},
   "source": [
    "#### Encode data"
   ]
  },
  {
   "cell_type": "code",
   "execution_count": 16,
   "id": "0486f73b-a8c9-483c-b837-25133e18a939",
   "metadata": {},
   "outputs": [],
   "source": [
    "# Convert categorical satisfaction into binary numerics\n",
    "df['Satisfaction'] = df['Satisfaction'].map({'satisfied': 1, 'dissatisfied': 0})"
   ]
  },
  {
   "cell_type": "code",
   "execution_count": 17,
   "id": "18639326-1ac5-4039-ad4f-9f5a7a672bc1",
   "metadata": {},
   "outputs": [
    {
     "name": "stdout",
     "output_type": "stream",
     "text": [
      "Satisfaction\n",
      "1    70882\n",
      "0    58605\n",
      "Name: count, dtype: int64\n",
      "Satisfaction\n",
      "1    0.547406\n",
      "0    0.452594\n",
      "Name: proportion, dtype: float64\n"
     ]
    }
   ],
   "source": [
    "# Check class balance for target variable: satisfaction\n",
    "print (df['Satisfaction'].value_counts())\n",
    "print (df['Satisfaction'].value_counts(normalize=True))"
   ]
  },
  {
   "cell_type": "markdown",
   "id": "677139a4-f222-4a5b-9134-874e6f1718ce",
   "metadata": {},
   "source": [
    "Results:\\\n",
    "Satisfaction is now a descrete binary int: 0 or 1\n",
    "- satisfied 70882 (~0.55%) = 1\n",
    "- dissatisfied 58605 (~0.45%) = 0\n",
    "- There are 129487 observations (rows). None are missing values."
   ]
  },
  {
   "cell_type": "code",
   "execution_count": 18,
   "id": "850ad55f-d28a-4295-b967-057760dbae6c",
   "metadata": {},
   "outputs": [],
   "source": [
    "# Export the new df\n",
    "df.to_csv('transformed_invistico.csv', index=0)"
   ]
  },
  {
   "cell_type": "code",
   "execution_count": 19,
   "id": "89c430d5-0c63-4a0b-bc8e-53c19c4dac5d",
   "metadata": {},
   "outputs": [
    {
     "data": {
      "text/html": [
       "<div>\n",
       "<style scoped>\n",
       "    .dataframe tbody tr th:only-of-type {\n",
       "        vertical-align: middle;\n",
       "    }\n",
       "\n",
       "    .dataframe tbody tr th {\n",
       "        vertical-align: top;\n",
       "    }\n",
       "\n",
       "    .dataframe thead th {\n",
       "        text-align: right;\n",
       "    }\n",
       "</style>\n",
       "<table border=\"1\" class=\"dataframe\">\n",
       "  <thead>\n",
       "    <tr style=\"text-align: right;\">\n",
       "      <th></th>\n",
       "      <th>Satisfaction</th>\n",
       "      <th>Customer Type</th>\n",
       "      <th>Age</th>\n",
       "      <th>Type of Travel</th>\n",
       "      <th>Class</th>\n",
       "      <th>Flight Distance</th>\n",
       "      <th>Seat comfort</th>\n",
       "      <th>Departure/Arrival time convenient</th>\n",
       "      <th>Food and drink</th>\n",
       "      <th>Gate location</th>\n",
       "      <th>Inflight wifi service</th>\n",
       "      <th>Inflight entertainment</th>\n",
       "      <th>Online support</th>\n",
       "      <th>Ease of Online booking</th>\n",
       "      <th>On-board service</th>\n",
       "      <th>Leg room service</th>\n",
       "      <th>Baggage handling</th>\n",
       "      <th>Checkin service</th>\n",
       "      <th>Cleanliness</th>\n",
       "      <th>Online boarding</th>\n",
       "      <th>Departure Delay in Minutes</th>\n",
       "      <th>Arrival Delay in Minutes</th>\n",
       "    </tr>\n",
       "  </thead>\n",
       "  <tbody>\n",
       "    <tr>\n",
       "      <th>0</th>\n",
       "      <td>1</td>\n",
       "      <td>Loyal Customer</td>\n",
       "      <td>65</td>\n",
       "      <td>Personal Travel</td>\n",
       "      <td>Eco</td>\n",
       "      <td>265</td>\n",
       "      <td>0</td>\n",
       "      <td>0</td>\n",
       "      <td>0</td>\n",
       "      <td>2</td>\n",
       "      <td>2</td>\n",
       "      <td>4.0</td>\n",
       "      <td>2</td>\n",
       "      <td>3</td>\n",
       "      <td>3</td>\n",
       "      <td>0</td>\n",
       "      <td>3</td>\n",
       "      <td>5</td>\n",
       "      <td>3</td>\n",
       "      <td>2</td>\n",
       "      <td>0</td>\n",
       "      <td>0.0</td>\n",
       "    </tr>\n",
       "    <tr>\n",
       "      <th>1</th>\n",
       "      <td>1</td>\n",
       "      <td>Loyal Customer</td>\n",
       "      <td>47</td>\n",
       "      <td>Personal Travel</td>\n",
       "      <td>Business</td>\n",
       "      <td>2464</td>\n",
       "      <td>0</td>\n",
       "      <td>0</td>\n",
       "      <td>0</td>\n",
       "      <td>3</td>\n",
       "      <td>0</td>\n",
       "      <td>2.0</td>\n",
       "      <td>2</td>\n",
       "      <td>3</td>\n",
       "      <td>4</td>\n",
       "      <td>4</td>\n",
       "      <td>4</td>\n",
       "      <td>2</td>\n",
       "      <td>3</td>\n",
       "      <td>2</td>\n",
       "      <td>310</td>\n",
       "      <td>305.0</td>\n",
       "    </tr>\n",
       "    <tr>\n",
       "      <th>2</th>\n",
       "      <td>1</td>\n",
       "      <td>Loyal Customer</td>\n",
       "      <td>15</td>\n",
       "      <td>Personal Travel</td>\n",
       "      <td>Eco</td>\n",
       "      <td>2138</td>\n",
       "      <td>0</td>\n",
       "      <td>0</td>\n",
       "      <td>0</td>\n",
       "      <td>3</td>\n",
       "      <td>2</td>\n",
       "      <td>0.0</td>\n",
       "      <td>2</td>\n",
       "      <td>2</td>\n",
       "      <td>3</td>\n",
       "      <td>3</td>\n",
       "      <td>4</td>\n",
       "      <td>4</td>\n",
       "      <td>4</td>\n",
       "      <td>2</td>\n",
       "      <td>0</td>\n",
       "      <td>0.0</td>\n",
       "    </tr>\n",
       "    <tr>\n",
       "      <th>3</th>\n",
       "      <td>1</td>\n",
       "      <td>Loyal Customer</td>\n",
       "      <td>60</td>\n",
       "      <td>Personal Travel</td>\n",
       "      <td>Eco</td>\n",
       "      <td>623</td>\n",
       "      <td>0</td>\n",
       "      <td>0</td>\n",
       "      <td>0</td>\n",
       "      <td>3</td>\n",
       "      <td>3</td>\n",
       "      <td>4.0</td>\n",
       "      <td>3</td>\n",
       "      <td>1</td>\n",
       "      <td>1</td>\n",
       "      <td>0</td>\n",
       "      <td>1</td>\n",
       "      <td>4</td>\n",
       "      <td>1</td>\n",
       "      <td>3</td>\n",
       "      <td>0</td>\n",
       "      <td>0.0</td>\n",
       "    </tr>\n",
       "    <tr>\n",
       "      <th>4</th>\n",
       "      <td>1</td>\n",
       "      <td>Loyal Customer</td>\n",
       "      <td>70</td>\n",
       "      <td>Personal Travel</td>\n",
       "      <td>Eco</td>\n",
       "      <td>354</td>\n",
       "      <td>0</td>\n",
       "      <td>0</td>\n",
       "      <td>0</td>\n",
       "      <td>3</td>\n",
       "      <td>4</td>\n",
       "      <td>3.0</td>\n",
       "      <td>4</td>\n",
       "      <td>2</td>\n",
       "      <td>2</td>\n",
       "      <td>0</td>\n",
       "      <td>2</td>\n",
       "      <td>4</td>\n",
       "      <td>2</td>\n",
       "      <td>5</td>\n",
       "      <td>0</td>\n",
       "      <td>0.0</td>\n",
       "    </tr>\n",
       "  </tbody>\n",
       "</table>\n",
       "</div>"
      ],
      "text/plain": [
       "   Satisfaction   Customer Type  Age   Type of Travel     Class  \\\n",
       "0             1  Loyal Customer   65  Personal Travel       Eco   \n",
       "1             1  Loyal Customer   47  Personal Travel  Business   \n",
       "2             1  Loyal Customer   15  Personal Travel       Eco   \n",
       "3             1  Loyal Customer   60  Personal Travel       Eco   \n",
       "4             1  Loyal Customer   70  Personal Travel       Eco   \n",
       "\n",
       "   Flight Distance  Seat comfort  Departure/Arrival time convenient  \\\n",
       "0              265             0                                  0   \n",
       "1             2464             0                                  0   \n",
       "2             2138             0                                  0   \n",
       "3              623             0                                  0   \n",
       "4              354             0                                  0   \n",
       "\n",
       "   Food and drink  Gate location  Inflight wifi service  \\\n",
       "0               0              2                      2   \n",
       "1               0              3                      0   \n",
       "2               0              3                      2   \n",
       "3               0              3                      3   \n",
       "4               0              3                      4   \n",
       "\n",
       "   Inflight entertainment  Online support  Ease of Online booking  \\\n",
       "0                     4.0               2                       3   \n",
       "1                     2.0               2                       3   \n",
       "2                     0.0               2                       2   \n",
       "3                     4.0               3                       1   \n",
       "4                     3.0               4                       2   \n",
       "\n",
       "   On-board service  Leg room service  Baggage handling  Checkin service  \\\n",
       "0                 3                 0                 3                5   \n",
       "1                 4                 4                 4                2   \n",
       "2                 3                 3                 4                4   \n",
       "3                 1                 0                 1                4   \n",
       "4                 2                 0                 2                4   \n",
       "\n",
       "   Cleanliness  Online boarding  Departure Delay in Minutes  \\\n",
       "0            3                2                           0   \n",
       "1            3                2                         310   \n",
       "2            4                2                           0   \n",
       "3            1                3                           0   \n",
       "4            2                5                           0   \n",
       "\n",
       "   Arrival Delay in Minutes  \n",
       "0                       0.0  \n",
       "1                     305.0  \n",
       "2                       0.0  \n",
       "3                       0.0  \n",
       "4                       0.0  "
      ]
     },
     "execution_count": 19,
     "metadata": {},
     "output_type": "execute_result"
    }
   ],
   "source": [
    "# Check new csv was created\n",
    "df = pd.read_csv('transformed_invistico.csv')\n",
    "df.head()"
   ]
  },
  {
   "cell_type": "markdown",
   "id": "1dcefd64-9abb-4cfe-9c03-6637f9d54f1a",
   "metadata": {},
   "source": [
    "## PART II: 1st CASE\n",
    "## Build a binomial logistic regression model"
   ]
  },
  {
   "cell_type": "markdown",
   "id": "ecd1f51f-6d72-4b3c-a271-df8c17b342a3",
   "metadata": {},
   "source": [
    "### Prepare data for modelling\n",
    "Split the data into: \n",
    "- features and target variable\n",
    "- training data(75%) and test data(25%)\n",
    "- no need to stratify, because data set is balanced\n",
    "- set a random seed so work can be reproduced (42)"
   ]
  },
  {
   "cell_type": "code",
   "execution_count": 20,
   "id": "3c4225c0-e7cb-44c4-9430-e0c68e2afb61",
   "metadata": {},
   "outputs": [],
   "source": [
    "# Subset independent X and dependent y\n",
    "X = df[['Inflight entertainment']]\n",
    "y = df['Satisfaction']"
   ]
  },
  {
   "cell_type": "code",
   "execution_count": 21,
   "id": "9bfa0e0d-1222-4ea9-bbad-14ce5921db3f",
   "metadata": {},
   "outputs": [
    {
     "data": {
      "text/plain": [
       "Satisfaction\n",
       "1    0.547406\n",
       "0    0.452594\n",
       "Name: proportion, dtype: float64"
      ]
     },
     "execution_count": 21,
     "metadata": {},
     "output_type": "execute_result"
    }
   ],
   "source": [
    "# Display balance of dependent y variable and verify is binary as required for a logistic regression\n",
    "y.value_counts(normalize=True)"
   ]
  },
  {
   "cell_type": "code",
   "execution_count": 22,
   "id": "7ced0e4d-09f5-4c1e-8fdb-d8ef05122bf6",
   "metadata": {},
   "outputs": [
    {
     "data": {
      "image/png": "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",
      "text/plain": [
       "<Figure size 640x480 with 1 Axes>"
      ]
     },
     "metadata": {},
     "output_type": "display_data"
    }
   ],
   "source": [
    "# Verify independent variable is not binary\n",
    "X.hist();"
   ]
  },
  {
   "cell_type": "markdown",
   "id": "4cc4b9c3-1c35-4356-979b-f985be25bb18",
   "metadata": {},
   "source": [
    "- Independent X variable is a discrete int with 5 values, with left skew\n",
    "- Dependent y variable is a Boolean value with a healthy ~55/45% ratio\n",
    "- No need to stratify or scale because data set is balanced"
   ]
  },
  {
   "cell_type": "code",
   "execution_count": 23,
   "id": "471712d3-9b46-4594-904e-a6e7b5d22689",
   "metadata": {},
   "outputs": [],
   "source": [
    "# Split data into test and train sets\n",
    "X_train, X_test, y_train, y_test = train_test_split(X, y, test_size=0.3, random_state=42)"
   ]
  },
  {
   "cell_type": "code",
   "execution_count": 24,
   "id": "91c595b1-7831-4404-b152-583a11947b49",
   "metadata": {},
   "outputs": [
    {
     "name": "stdout",
     "output_type": "stream",
     "text": [
      "(90640, 1)\n",
      "(38847, 1)\n",
      "(90640,)\n",
      "(38847,)\n"
     ]
    }
   ],
   "source": [
    "# Verify shape of splits\n",
    "print(X_train.shape)\n",
    "print(X_test.shape) # This will be the total # of predictions on the test data\n",
    "print(y_train.shape)\n",
    "print(y_test.shape) # This will be the total # of predictions on the test data"
   ]
  },
  {
   "cell_type": "code",
   "execution_count": 25,
   "id": "42f49383-f475-4de9-a8c6-ea9e2df4bded",
   "metadata": {},
   "outputs": [
    {
     "data": {
      "text/plain": [
       "Satisfaction\n",
       "1    49674\n",
       "0    40966\n",
       "Name: count, dtype: int64"
      ]
     },
     "execution_count": 25,
     "metadata": {},
     "output_type": "execute_result"
    }
   ],
   "source": [
    "# Check balance of training set\n",
    "y_train.value_counts()"
   ]
  },
  {
   "cell_type": "code",
   "execution_count": 26,
   "id": "d6539c8f-5f08-4c92-9cd0-888f8cc92906",
   "metadata": {},
   "outputs": [
    {
     "data": {
      "text/plain": [
       "Satisfaction\n",
       "1    21208\n",
       "0    17639\n",
       "Name: count, dtype: int64"
      ]
     },
     "execution_count": 26,
     "metadata": {},
     "output_type": "execute_result"
    }
   ],
   "source": [
    "# Check balance of test set\n",
    "y_test.value_counts()"
   ]
  },
  {
   "cell_type": "markdown",
   "id": "781058c1-ff9c-4687-978d-89d3be4e119c",
   "metadata": {},
   "source": [
    "#### Build and plot logistic regression classification model (clf)"
   ]
  },
  {
   "cell_type": "code",
   "execution_count": 27,
   "id": "3e9562d9-a1dc-4337-9a7e-6c2a8d14327d",
   "metadata": {},
   "outputs": [],
   "source": [
    "# Instantiate and fit the model\n",
    "clf = LogisticRegression().fit(X_train,y_train)"
   ]
  },
  {
   "cell_type": "code",
   "execution_count": 28,
   "id": "45ae420c-50a7-4602-a7ea-61d15131651f",
   "metadata": {},
   "outputs": [
    {
     "name": "stdout",
     "output_type": "stream",
     "text": [
      "[[0.99751462]]\n",
      "[-3.19355406]\n"
     ]
    }
   ],
   "source": [
    "# Get coefficients (parameter and intercept [betas]) for regplot\n",
    "print(clf.coef_)\n",
    "print(clf.intercept_)"
   ]
  },
  {
   "cell_type": "markdown",
   "id": "bb78291b-f6e1-484c-aecf-659578015342",
   "metadata": {},
   "source": [
    "Model has a coef (parameter estimate) 0.99751462(β1) and intercept -3.19355406(β̂0)"
   ]
  },
  {
   "cell_type": "code",
   "execution_count": 29,
   "id": "d344706f-bbd0-4424-a668-bfa5cc289413",
   "metadata": {},
   "outputs": [
    {
     "data": {
      "image/png": "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",
      "text/plain": [
       "<Figure size 640x480 with 1 Axes>"
      ]
     },
     "metadata": {},
     "output_type": "display_data"
    }
   ],
   "source": [
    "# Plot model and data with a 95% confidence band using the regplot() function\n",
    "sns.regplot(x='Inflight entertainment', y='Satisfaction', data=df, logistic=True, ci=None); \n",
    "# logistic=True, because logitic model, not linear\n",
    "# ci= function specify the confidence interval for the regression estimate. None = no confidence band\n",
    "# Shows the same curve without the ci = , but takes forever"
   ]
  },
  {
   "cell_type": "markdown",
   "id": "4d62fd3f-92d5-4c83-8760-1726f9c3a612",
   "metadata": {},
   "source": [
    "#### Results and evaluation\n",
    "- get predictions on testing data – because not carrying forward\n",
    "- get metrics: precision, recall, and F1 score\n",
    "- create confusion matrix\n",
    "- create ROC curve\n",
    "- create AUC"
   ]
  },
  {
   "cell_type": "code",
   "execution_count": 30,
   "id": "23fbfb1c-1709-4914-b4f5-02e977d4808e",
   "metadata": {},
   "outputs": [
    {
     "name": "stdout",
     "output_type": "stream",
     "text": [
      "[1 0 0 ... 0 0 0]\n"
     ]
    }
   ],
   "source": [
    "# Save predictions\n",
    "y_pred = clf.predict(X_test)\n",
    "print(y_pred)"
   ]
  },
  {
   "cell_type": "code",
   "execution_count": 31,
   "id": "612bdfa8-2f84-4a7b-8bec-eef9ad8e38c1",
   "metadata": {},
   "outputs": [
    {
     "data": {
      "text/plain": [
       "array([[0.14258068, 0.85741932],\n",
       "       [0.55008402, 0.44991598],\n",
       "       [0.89989329, 0.10010671],\n",
       "       ...,\n",
       "       [0.89989329, 0.10010671],\n",
       "       [0.76826225, 0.23173775],\n",
       "       [0.55008402, 0.44991598]])"
      ]
     },
     "execution_count": 31,
     "metadata": {},
     "output_type": "execute_result"
    }
   ],
   "source": [
    "# Use predict_proba to output a probability: clf.predict_proba(X_test)[::,-1]\n",
    "clf.predict_proba(X_test)"
   ]
  },
  {
   "cell_type": "markdown",
   "id": "41f43ff0-b857-46a1-b1d0-9cf81e3f7504",
   "metadata": {},
   "source": [
    "The predict function works by assuming a threshold of 0.5\n",
    "- So if MLE predicts a value >= 0.5, the predict function will label that observation a 1\n",
    "- If MLE predicts a value < 0.5, the predict function will label that observation a 0\n",
    "\n",
    "Maximum likelihood estimation, or MLE, is a technique for estimating the beta parameters that maximize the likelihood of the model producing the observed data. Likelihood = the probability of observing the actual data given some set of beta parameters."
   ]
  },
  {
   "cell_type": "code",
   "execution_count": 32,
   "id": "d972683d-554e-4e03-b6a1-5e9756dcdcaa",
   "metadata": {},
   "outputs": [
    {
     "data": {
      "image/png": "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",
      "text/plain": [
       "<Figure size 640x480 with 2 Axes>"
      ]
     },
     "metadata": {},
     "output_type": "display_data"
    }
   ],
   "source": [
    "# Create confusion matrix to visualize how accurate classifier is at predicting the labels for a categorical variable\n",
    "# Calculate the values for each quadrant in the confusion matrix\n",
    "cm = confusion_matrix(y_test, y_pred, labels = clf.classes_) # clf.classes_ (classifications)\n",
    "\n",
    "# Visualize confusion matrix\n",
    "disp = ConfusionMatrixDisplay(confusion_matrix = cm,display_labels=['dissatisfied(0)', 'satisfied(1)']) #display_labels = clf.classes_\n",
    "\n",
    "disp.plot();"
   ]
  },
  {
   "cell_type": "markdown",
   "id": "58a05be8-b973-442d-9c02-48145d3080ac",
   "metadata": {},
   "source": [
    "*Legend*\n",
    "- True label (y_test): actual labels of the holdout sample\n",
    "- Predicted label (y_pred): predicted labels (satisfied/dissatisfied [clf.classes_]) on the holdout test sample\n",
    "\n",
    "Since this is a binomial logistic regression, there are only two labels, 0 and 1\n",
    "- 0 = the person was labeled as dissatisfied for that observation\n",
    "- 1 = a person was labeled as satisfied for that observation"
   ]
  },
  {
   "cell_type": "markdown",
   "id": "4fb7eae5-9fd2-4a12-9107-5080daf01a12",
   "metadata": {},
   "source": [
    "*Translation*\n",
    "- True negatives(UL): # of people that were dissatisfied(0) that the model accurately predicted as dissatisfied(0) = 13714\n",
    "- True positives(LR): # of people that were satisfied(1) that the model accurately predicted were satisfied(1) = 17423\n",
    "  \n",
    "- False positives(UR)/ Type I Errors: # of people that were dissatisfied(0) that the model inaccurately predicted were satisfied(1) = 3925\n",
    "- False negatives(LL)/Type II Errors: # of people that were satisfied(1) that the model inaccurately predicted were dissatisfied(0) = 3785\n",
    "\n",
    "Immediately seen from the model is a med-high proportion of true positives and true negatives (where the matrix accurately predicted that the customer would be satisfied or dissatisfied, respectively) to false positives and false negatives.\n",
    "\n",
    "There is also a proportional relationship between false positives and false negatives (where the matrix inaccurately predicted that the customer would be satisfied or dissatisfied, respectively."
   ]
  },
  {
   "cell_type": "code",
   "execution_count": 33,
   "id": "4d030458-a0e7-4704-ab13-eac96f4b95ef",
   "metadata": {},
   "outputs": [
    {
     "data": {
      "text/html": [
       "<div>\n",
       "<style scoped>\n",
       "    .dataframe tbody tr th:only-of-type {\n",
       "        vertical-align: middle;\n",
       "    }\n",
       "\n",
       "    .dataframe tbody tr th {\n",
       "        vertical-align: top;\n",
       "    }\n",
       "\n",
       "    .dataframe thead th {\n",
       "        text-align: right;\n",
       "    }\n",
       "</style>\n",
       "<table border=\"1\" class=\"dataframe\">\n",
       "  <thead>\n",
       "    <tr style=\"text-align: right;\">\n",
       "      <th></th>\n",
       "      <th>Model</th>\n",
       "      <th>Precision</th>\n",
       "      <th>Recall</th>\n",
       "      <th>Accuracy</th>\n",
       "      <th>F1</th>\n",
       "    </tr>\n",
       "  </thead>\n",
       "  <tbody>\n",
       "    <tr>\n",
       "      <th>0</th>\n",
       "      <td>LogisticRegression()</td>\n",
       "      <td>0.816142</td>\n",
       "      <td>0.821530</td>\n",
       "      <td>0.801529</td>\n",
       "      <td>0.818827</td>\n",
       "    </tr>\n",
       "  </tbody>\n",
       "</table>\n",
       "</div>"
      ],
      "text/plain": [
       "                  Model Precision    Recall  Accuracy        F1\n",
       "0  LogisticRegression()  0.816142  0.821530  0.801529  0.818827"
      ]
     },
     "execution_count": 33,
     "metadata": {},
     "output_type": "execute_result"
    }
   ],
   "source": [
    "# Create table of results for metrics\n",
    "# precision_score(y_test,y_pred) = Y values in holdout testing dataset &  Y values that model predicted from the X values in holdout test dataset \n",
    "result_table = pd.DataFrame({'Model': [clf],\n",
    "                      'Precision': ['%.6f' % precision_score(y_test, y_pred)],\n",
    "                      'Recall': ['%.6f' % recall_score(y_test, y_pred)],\n",
    "                      'Accuracy': ['%.6f' % accuracy_score(y_test, y_pred)],\n",
    "                      'F1': ['%.6f' % f1_score(y_test, y_pred)]\n",
    "                     })\n",
    "result_table"
   ]
  },
  {
   "cell_type": "code",
   "execution_count": 34,
   "id": "fa0d45a6-40f2-4173-86bb-dda6fc3ccbbf",
   "metadata": {},
   "outputs": [
    {
     "name": "stdout",
     "output_type": "stream",
     "text": [
      "              precision    recall  f1-score   support\n",
      "\n",
      "dissatisfied       0.78      0.78      0.78     17639\n",
      "   satisfied       0.82      0.82      0.82     21208\n",
      "\n",
      "    accuracy                           0.80     38847\n",
      "   macro avg       0.80      0.80      0.80     38847\n",
      "weighted avg       0.80      0.80      0.80     38847\n",
      "\n"
     ]
    }
   ],
   "source": [
    "# Create classification_report\n",
    "target_labels = ['dissatisfied', 'satisfied']\n",
    "print(classification_report(y_test, y_pred, target_names = target_labels))"
   ]
  },
  {
   "cell_type": "markdown",
   "id": "6f7ce50f-d92c-4eab-93cc-2d2f6737f93e",
   "metadata": {},
   "source": [
    "**Precision**: measures the % of customers that are actually satisfied out of all the customers that have been predicted to be satisfied (# true positives(17423) / (# true positives(17423) + # false positives(3925))\n",
    "\n",
    "*The good* \\\n",
    "This model has a precision score of 0.82, thus it is quite good at precisely predicting whether an airline customer will be satisfied (true positives), based on the inflight entertainment currently on offer. In an effort to be precise, the model also attempts to reduce the occurrences of incorrectly classifying people as satisfied when they are dissatisfied (false positives/Type I errors). \n",
    "\n",
    "*The bad* \\\n",
    "In its goal to be precise (not classify people as satisfied when they are dissatisfied), the algorithm can become more selective. A higher rate of precision may mean that more samples are classified as dissatisfied, when then are satisfied (false-negative/Type II errors). Thus, satisfied customers can be missed. \n",
    "\n",
    "The conclusion: \\\n",
    "Because the airline is interested in learning if a new customer would be satisfied based on their current inflight entertainment, an 82% satisfaction rate is excellent. This is particularly true if the algorithm has even missed satisfied people.\n",
    "\n",
    "**Recall**: measures the % of satisfied customers that the classifier correctly identified as satisfied out of all satisfied observations in the test set (21208). (# true positives(17423) / (# true positives(17423) + # false negatives(3785)) \n",
    "\n",
    "*The good* \\\n",
    "This model has a precision score of 0.82, thus it is quite good at correctly identifying whether the airline passenger will be satisfied, based on the inflight entertainment currently on offer, out of all customers who were tagged as satisfied (y_test = 21208 [17423 + 3785]). The model is also less likely miss people who are satisfied (to incorrectly classify people as dissatisfied who are satisfied (false-negative/Type II errors)).\n",
    "\n",
    "*The bad* \\\n",
    "However, because the model is more sensitive to finding satisfied people, it can be prone to incorrectly categorizing people as satisfied (false-positives/Type-I error) when they are dissatisfied. \n",
    "\n",
    "The conclusion \\\n",
    "If the score were higher than 0.82 the airline may not want to put too much stock in their current inflight entertainment as a variable which predicts satisfaction – since some people would have been dissatisfied with it and they would not have been classified as such. The score of 0.82 (or 3925 missed people), may not weigh heavily.\n",
    "\n",
    "**Accuracy** is the percentage of data points that were correctly classified out of all total predictions (# true positives(17423) + # true negatives(13714) / # total predictions(38847)). The model achieved an accuracy score of 0.80 which is quite good.\n",
    "\n",
    "*The bad* \\\n",
    "Accuracy can be misleading if the data set is unbalanced. The algorithm could be poor at balancing false positive and false negatives because it does not account for the distribution of classes (satisfied/dissatisfied). It could be excellent at predicting one class (e.g., the majority) and being terrible at predicting the other (e.g., the minority) and return a very good accuracy score.\n",
    "\n",
    "The conclusion \\\n",
    "Since this class was mostly balanced (21208 (1)/ 17639 (0)), an accuracy of 0.80 likely reflects a well balanced result.\n",
    "\n",
    "**F1 Score** (the harmonic mean) balances precision (minimizing false positives or Type I errors) and recall (minimizing false negatives or Type II errors) performance, providing a single value for evaluation.<br>\n",
    "\n",
    "The conclusion \\\n",
    "The combined F1 score of 0.82 is quite good. It means that the model is mostly effective at minimizing both type of errors. \n"
   ]
  },
  {
   "cell_type": "code",
   "execution_count": 35,
   "id": "f5d71071-cf10-4c88-9558-da9410d2a614",
   "metadata": {},
   "outputs": [],
   "source": [
    "# Save results table as csv\n",
    "result_table.to_csv('Satisfaction_Results.csv', index = False) # index = False to remove indexing row"
   ]
  },
  {
   "cell_type": "code",
   "execution_count": 36,
   "id": "e2619066-fe63-4a02-bbb4-b92227e9c730",
   "metadata": {},
   "outputs": [
    {
     "data": {
      "text/html": [
       "<div>\n",
       "<style scoped>\n",
       "    .dataframe tbody tr th:only-of-type {\n",
       "        vertical-align: middle;\n",
       "    }\n",
       "\n",
       "    .dataframe tbody tr th {\n",
       "        vertical-align: top;\n",
       "    }\n",
       "\n",
       "    .dataframe thead th {\n",
       "        text-align: right;\n",
       "    }\n",
       "</style>\n",
       "<table border=\"1\" class=\"dataframe\">\n",
       "  <thead>\n",
       "    <tr style=\"text-align: right;\">\n",
       "      <th></th>\n",
       "      <th>Model</th>\n",
       "      <th>Precision</th>\n",
       "      <th>Recall</th>\n",
       "      <th>Accuracy</th>\n",
       "      <th>F1</th>\n",
       "    </tr>\n",
       "  </thead>\n",
       "  <tbody>\n",
       "    <tr>\n",
       "      <th>0</th>\n",
       "      <td>LogisticRegression()</td>\n",
       "      <td>0.816142</td>\n",
       "      <td>0.82153</td>\n",
       "      <td>0.801529</td>\n",
       "      <td>0.818827</td>\n",
       "    </tr>\n",
       "  </tbody>\n",
       "</table>\n",
       "</div>"
      ],
      "text/plain": [
       "                  Model  Precision   Recall  Accuracy        F1\n",
       "0  LogisticRegression()   0.816142  0.82153  0.801529  0.818827"
      ]
     },
     "execution_count": 36,
     "metadata": {},
     "output_type": "execute_result"
    }
   ],
   "source": [
    "# View the results\n",
    "table = pd.read_csv('Satisfaction_Results.csv')\n",
    "table.head()"
   ]
  },
  {
   "cell_type": "markdown",
   "id": "001a3def-cc52-44c4-b202-b4d29e118ebb",
   "metadata": {},
   "source": [
    "### Plot ROC and AOC\n",
    "Visualize the performance of the logistic regression classifier(clf)\n",
    "\n",
    "**ROC curve (receiver operating characteristic curve)**  \n",
    "- A ROC curse visualizes the performance of a classifier at different classification thresholds\n",
    "- For binary classification: a classification threshold is a cutoff(point) for differentiating the positive class from the negative class\n",
    "- y axis: True Positive Rate (Recall). The probability that model predicts a positive and it is negative (Sensitivity).\n",
    "- X axis: False Positive Rate (= False Positives / (False Positives + True Negatives)). The probability that model predicts a negative and it is negative (Specificity)\n",
    "\n",
    "**AUC (area under the ROC curve)** \n",
    "- The AUC score provides an aggregate measure of performance of the model at each threshold.\n"
   ]
  },
  {
   "cell_type": "code",
   "execution_count": 37,
   "id": "d54b9e63-0570-497a-88ad-69b87e23cb78",
   "metadata": {},
   "outputs": [
    {
     "data": {
      "image/png": "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",
      "text/plain": [
       "<Figure size 640x480 with 1 Axes>"
      ]
     },
     "metadata": {},
     "output_type": "display_data"
    }
   ],
   "source": [
    "# Plot ROC curve\n",
    "RocCurveDisplay.from_predictions(y_test, y_pred)\n",
    "plt.show()"
   ]
  },
  {
   "cell_type": "code",
   "execution_count": 38,
   "id": "4c107c2e-eca1-461c-81ac-fa591c89047a",
   "metadata": {},
   "outputs": [
    {
     "data": {
      "text/plain": [
       "0.7995056640589874"
      ]
     },
     "execution_count": 38,
     "metadata": {},
     "output_type": "execute_result"
    }
   ],
   "source": [
    "# Compute the AUC\n",
    "roc_auc_score(y_test,y_pred)"
   ]
  },
  {
   "cell_type": "markdown",
   "id": "efa4c07d-e11f-478f-ac40-82b38dd24ae4",
   "metadata": {},
   "source": [
    "*ROC curve*\n",
    "The graph shows of pairs (true positive/false positive) across all possible classification thresholds (classification decisions) confirms that the model is quite good at classifying the data. The True Positive Rate is high and the False Positive Rate is low.\n",
    "\n",
    "\n",
    "In the context of classification models, \"across all possible classification thresholds\" refers to the range of values that can be used to determine whether a sample is classified as belonging to a particular class (e.g., positive or negative).\n",
    "\n",
    "*AUC scores*\n",
    "A model that has an AUC score of 0.0 is entirely wrong.  \n",
    "A model that has an AUC score of 1.0 is entirely correct. \n",
    "A model that has an AUC score of < 0.5 is a model that performs worse than random classification\n",
    "A model that has an AUC score of > 0.5 is a model that performs better than random classification\n",
    "\n",
    "This model has an AUC score of ~80%, which suggests that the model has better overall performance (over all possible classification thresholds) in distinguishing between positive and negative classes.\n",
    "\n",
    "The AUC evaluates the model's ability to discriminate between positive and negative instances across various thresholds.\n"
   ]
  },
  {
   "cell_type": "markdown",
   "id": "3f1c5829-1d02-415a-be7b-5da2ee2368c3",
   "metadata": {},
   "source": [
    "## Results of Logistic regression:\n",
    "This model used the variable Inflight entertainment as the independent predictive variable to predicate whether the inflight entertainment experiences of previous customers would suggest future customer satisfaction. Previous customers rated their inflight entertainment experiences using a 1-5 rating scale. These customers had at the same time the opportunity to judge their overall satisfaction of their airline experience by selecting yes or no. This binary variable ‘satisfaction’ served as the dependent y variable for the logistic regressive model. The model predicts a strong and steady correlation between those who rated inflight entertainment highly and their general satisfaction with airline experience. The more customers said they enjoyed the inflight entertainment, the more likely they were to be satisfied.\n",
    "\n",
    "On the whole, previous customers were fairly split in their satisfaction with their overall experience of the airline. ~55% of customers were satisfied and ~45% were dissatisfied. From the 38,847people in the test data, 21,208 were satisfied. Of those, the model captures 17423 - missing fewer than 4,000 satisfied customers. Since the goal of this project is to identify whether the inflight entertainment experiences of previous customers would suggest future customer satisfaction, this model is very good at correctly identifying satisfied customers and predicting their satisfaction based solely on their previous inflight entertainment experience. It scored ~82% on both recall and precision scores (with a f1 of ~82%), thus it has an equally high ability to identify satisfied or unsatisfied customers and an equally low chance of falsely identifying satisfied or unsatisfied customers (Type I and Type II errors). Further demonstrating this model's efficacy, it achieved an AUC score of ~80%, which suggests that it has better overall performance (over all possible classification thresholds) in distinguishing between positive and negative classes.\n",
    "\n",
    "In an effort to identify even more satisfied customers based on their previous inflight entertainment experience, the model could be optimized based on recall score. However, if it is so tuned, it will become more sensitive to finding satisfied people and can be prone to incorrectly categorizing people as satisfied (false-positives/Type-I error) when they are dissatisfied, thereby giving a false impression of satisfaction. If, on the other hand, the airline would prefer to play it safe, the model could be optimized based on precision score. This would lead to the model attempting to reduce the occurrences of incorrectly classifying people as satisfied when they are dissatisfied (false positives/Type I errors). However, in its goal to be precise (not classify people as satisfied when they are dissatisfied), the algorithm can become more selective. A higher rate of precision may mean that more samples are classified as dissatisfied, when then are satisfied (false-negative/Type II errors). Thus, satisfied customers can be missed which could lead to the airline making changes where none are needed.\n",
    "The success of the model indicates that the airline should focus attention on their inflight entertainment service, either leaving it as it is or continuing to improve it based on customer feedback. As the model scored an ~82% on accuracy, this is far better predictor than the ~55% satisfaction rating for the overall dataset."
   ]
  },
  {
   "cell_type": "markdown",
   "id": "3a177389-6f8e-445d-bccc-765eaad9fa35",
   "metadata": {},
   "source": [
    "### Continued in Invistico PART II, Decision Trees"
   ]
  },
  {
   "cell_type": "code",
   "execution_count": null,
   "id": "cc61f649-2bbe-4fd6-900d-0f469f151801",
   "metadata": {},
   "outputs": [],
   "source": []
  }
 ],
 "metadata": {
  "kernelspec": {
   "display_name": "Python 3 (ipykernel)",
   "language": "python",
   "name": "python3"
  },
  "language_info": {
   "codemirror_mode": {
    "name": "ipython",
    "version": 3
   },
   "file_extension": ".py",
   "mimetype": "text/x-python",
   "name": "python",
   "nbconvert_exporter": "python",
   "pygments_lexer": "ipython3",
   "version": "3.11.6"
  }
 },
 "nbformat": 4,
 "nbformat_minor": 5
}
