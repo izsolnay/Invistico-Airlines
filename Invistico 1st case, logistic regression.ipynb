{
 "cells": [
  {
   "cell_type": "markdown",
   "id": "9c4070f3-d45f-48ca-93ae-a00bb893085b",
   "metadata": {},
   "source": [
    "# Invistico Airlines Project: 1st case\n",
    "**Objectives** \\\n",
    "*1st case* \\\n",
    "Invistico Airlines is interested in learning if a better inflight entertainment experience leads to higher customer satisfaction. They would like the construction and evaluation of a model that predicts whether a future customer would be satisfied with their services given previous customer feedback about their inflight entertainment experience. \n",
    "\n",
    "**Data** \\\n",
    "The data is sample size of survey responses from 129,880 customers. It includes data points such as satisfaction, class, flight distance, and inflight entertainment, among others. It is an in-house product.\n",
    "\n",
    "**Deliverables** \\\n",
    "Models: binomial logistic regression, decision tree, random forest, XGBoost.  \n",
    "(Since this project is a portfolio addition, the models are predetermined. Since this is a labelled data set, all models qualify as supervised.) Python Jupyter notebooks were used for all coding.\n",
    "\n",
    "*1st case*: **Binomial logistic regression model** (1st notebook)\\\n",
    "In the first case, the airline is interested in <u>learning</u> whether a better *inflight entertainment* experience leads to higher customer *satisfaction*. The outcome (dependent y variable) is `Satisfaction` a categorical Boolean variable (yes or no). The selected predicting (independent X variable) is `Inflight entertainment`. (In point of fact, many of the variables in the data set could be employed for the model. However, the results from the following tree-based models suggest that `Inflight entertainment` is the most predictive variable.)\n",
    "\n",
    "For this task, a binomial logistic model (rather than linear) is appropriate. Binomial logistic regression is a statistical technique that models the probability of an event (*satisfaction*) based on one (or more) independent variables (*inflight entertainment*). The outcome must be a binary classification (satisfaction/dissatisfaction).   \n", 
"All code is located at: https://github.com/izsolnay/Invistico_Airlines_Python"
   ]
  },
  {
   "cell_type": "markdown",
   "id": "f525d106-8e86-4086-815c-ce65f16dd0c4",
   "metadata": {},
   "source": [
    "#### Import packages"
   ]
  },
  {
   "cell_type": "code",
   "execution_count": 1,
   "id": "86dcd437-7141-48b4-9247-336b4c9ac398",
   "metadata": {},
   "outputs": [],
   "source": [
    "# Import standard operational packages\n",
    "import numpy as np\n",
    "import pandas as pd\n",
    "\n",
    "# Import preprocessing, modeling, and evaluation packages\n",
    "from sklearn.model_selection import train_test_split, GridSearchCV\n",
    "from sklearn.linear_model import LogisticRegression\n",
    "from sklearn.tree import DecisionTreeClassifier\n",
    "from sklearn.metrics import recall_score, precision_score, f1_score, accuracy_score, classification_report\n",
    "\n",
    "# Import visualization package\n",
    "import matplotlib.pyplot as plt\n",
    "import seaborn as sns\n",
    "from sklearn.tree import plot_tree\n",
    "from sklearn.metrics import confusion_matrix, ConfusionMatrixDisplay, RocCurveDisplay, roc_auc_score\n",
    "\n",
    "# Set Jupyter to display all of the columns (no redaction)\n",
    "pd.set_option('display.max_columns', None)"
   ]
  },
  {
   "cell_type": "code",
   "execution_count": 2,
   "id": "8ef477a6-5f56-429a-af7d-fafd047fa04c",
   "metadata": {},
   "outputs": [
    {
     "data": {
      "text/html": [
       "<div>\n",
       "<style scoped>\n",
       "    .dataframe tbody tr th:only-of-type {\n",
       "        vertical-align: middle;\n",
       "    }\n",
       "\n",
       "    .dataframe tbody tr th {\n",
       "        vertical-align: top;\n",
       "    }\n",
       "\n",
       "    .dataframe thead th {\n",
       "        text-align: right;\n",
       "    }\n",
       "</style>\n",
       "<table border=\"1\" class=\"dataframe\">\n",
       "  <thead>\n",
       "    <tr style=\"text-align: right;\">\n",
       "      <th></th>\n",
       "      <th>satisfaction</th>\n",
       "      <th>Customer Type</th>\n",
       "      <th>Age</th>\n",
       "      <th>Type of Travel</th>\n",
       "      <th>Class</th>\n",
       "      <th>Flight Distance</th>\n",
       "      <th>Seat comfort</th>\n",
       "      <th>Departure/Arrival time convenient</th>\n",
       "      <th>Food and drink</th>\n",
       "      <th>Gate location</th>\n",
       "      <th>Inflight wifi service</th>\n",
       "      <th>Inflight entertainment</th>\n",
       "      <th>Online support</th>\n",
       "      <th>Ease of Online booking</th>\n",
       "      <th>On-board service</th>\n",
       "      <th>Leg room service</th>\n",
       "      <th>Baggage handling</th>\n",
       "      <th>Checkin service</th>\n",
       "      <th>Cleanliness</th>\n",
       "      <th>Online boarding</th>\n",
       "      <th>Departure Delay in Minutes</th>\n",
       "      <th>Arrival Delay in Minutes</th>\n",
       "    </tr>\n",
       "  </thead>\n",
       "  <tbody>\n",
       "    <tr>\n",
       "      <th>0</th>\n",
       "      <td>satisfied</td>\n",
       "      <td>Loyal Customer</td>\n",
       "      <td>65</td>\n",
       "      <td>Personal Travel</td>\n",
       "      <td>Eco</td>\n",
       "      <td>265</td>\n",
       "      <td>0</td>\n",
       "      <td>0</td>\n",
       "      <td>0</td>\n",
       "      <td>2</td>\n",
       "      <td>2</td>\n",
       "      <td>4</td>\n",
       "      <td>2</td>\n",
       "      <td>3</td>\n",
       "      <td>3</td>\n",
       "      <td>0</td>\n",
       "      <td>3</td>\n",
       "      <td>5</td>\n",
       "      <td>3</td>\n",
       "      <td>2</td>\n",
       "      <td>0</td>\n",
       "      <td>0.0</td>\n",
       "    </tr>\n",
       "    <tr>\n",
       "      <th>1</th>\n",
       "      <td>satisfied</td>\n",
       "      <td>Loyal Customer</td>\n",
       "      <td>47</td>\n",
       "      <td>Personal Travel</td>\n",
       "      <td>Business</td>\n",
       "      <td>2464</td>\n",
       "      <td>0</td>\n",
       "      <td>0</td>\n",
       "      <td>0</td>\n",
       "      <td>3</td>\n",
       "      <td>0</td>\n",
       "      <td>2</td>\n",
       "      <td>2</td>\n",
       "      <td>3</td>\n",
       "      <td>4</td>\n",
       "      <td>4</td>\n",
       "      <td>4</td>\n",
       "      <td>2</td>\n",
       "      <td>3</td>\n",
       "      <td>2</td>\n",
       "      <td>310</td>\n",
       "      <td>305.0</td>\n",
       "    </tr>\n",
       "    <tr>\n",
       "      <th>2</th>\n",
       "      <td>satisfied</td>\n",
       "      <td>Loyal Customer</td>\n",
       "      <td>15</td>\n",
       "      <td>Personal Travel</td>\n",
       "      <td>Eco</td>\n",
       "      <td>2138</td>\n",
       "      <td>0</td>\n",
       "      <td>0</td>\n",
       "      <td>0</td>\n",
       "      <td>3</td>\n",
       "      <td>2</td>\n",
       "      <td>0</td>\n",
       "      <td>2</td>\n",
       "      <td>2</td>\n",
       "      <td>3</td>\n",
       "      <td>3</td>\n",
       "      <td>4</td>\n",
       "      <td>4</td>\n",
       "      <td>4</td>\n",
       "      <td>2</td>\n",
       "      <td>0</td>\n",
       "      <td>0.0</td>\n",
       "    </tr>\n",
       "    <tr>\n",
       "      <th>3</th>\n",
       "      <td>satisfied</td>\n",
       "      <td>Loyal Customer</td>\n",
       "      <td>60</td>\n",
       "      <td>Personal Travel</td>\n",
       "      <td>Eco</td>\n",
       "      <td>623</td>\n",
       "      <td>0</td>\n",
       "      <td>0</td>\n",
       "      <td>0</td>\n",
       "      <td>3</td>\n",
       "      <td>3</td>\n",
       "      <td>4</td>\n",
       "      <td>3</td>\n",
       "      <td>1</td>\n",
       "      <td>1</td>\n",
       "      <td>0</td>\n",
       "      <td>1</td>\n",
       "      <td>4</td>\n",
       "      <td>1</td>\n",
       "      <td>3</td>\n",
       "      <td>0</td>\n",
       "      <td>0.0</td>\n",
       "    </tr>\n",
       "    <tr>\n",
       "      <th>4</th>\n",
       "      <td>satisfied</td>\n",
       "      <td>Loyal Customer</td>\n",
       "      <td>70</td>\n",
       "      <td>Personal Travel</td>\n",
       "      <td>Eco</td>\n",
       "      <td>354</td>\n",
       "      <td>0</td>\n",
       "      <td>0</td>\n",
       "      <td>0</td>\n",
       "      <td>3</td>\n",
       "      <td>4</td>\n",
       "      <td>3</td>\n",
       "      <td>4</td>\n",
       "      <td>2</td>\n",
       "      <td>2</td>\n",
       "      <td>0</td>\n",
       "      <td>2</td>\n",
       "      <td>4</td>\n",
       "      <td>2</td>\n",
       "      <td>5</td>\n",
       "      <td>0</td>\n",
       "      <td>0.0</td>\n",
       "    </tr>\n",
       "  </tbody>\n",
       "</table>\n",
       "</div>"
      ],
      "text/plain": [
       "  satisfaction   Customer Type  Age   Type of Travel     Class  \\\n",
       "0    satisfied  Loyal Customer   65  Personal Travel       Eco   \n",
       "1    satisfied  Loyal Customer   47  Personal Travel  Business   \n",
       "2    satisfied  Loyal Customer   15  Personal Travel       Eco   \n",
       "3    satisfied  Loyal Customer   60  Personal Travel       Eco   \n",
       "4    satisfied  Loyal Customer   70  Personal Travel       Eco   \n",
       "\n",
       "   Flight Distance  Seat comfort  Departure/Arrival time convenient  \\\n",
       "0              265             0                                  0   \n",
       "1             2464             0                                  0   \n",
       "2             2138             0                                  0   \n",
       "3              623             0                                  0   \n",
       "4              354             0                                  0   \n",
       "\n",
       "   Food and drink  Gate location  Inflight wifi service  \\\n",
       "0               0              2                      2   \n",
       "1               0              3                      0   \n",
       "2               0              3                      2   \n",
       "3               0              3                      3   \n",
       "4               0              3                      4   \n",
       "\n",
       "   Inflight entertainment  Online support  Ease of Online booking  \\\n",
       "0                       4               2                       3   \n",
       "1                       2               2                       3   \n",
       "2                       0               2                       2   \n",
       "3                       4               3                       1   \n",
       "4                       3               4                       2   \n",
       "\n",
       "   On-board service  Leg room service  Baggage handling  Checkin service  \\\n",
       "0                 3                 0                 3                5   \n",
       "1                 4                 4                 4                2   \n",
       "2                 3                 3                 4                4   \n",
       "3                 1                 0                 1                4   \n",
       "4                 2                 0                 2                4   \n",
       "\n",
       "   Cleanliness  Online boarding  Departure Delay in Minutes  \\\n",
       "0            3                2                           0   \n",
       "1            3                2                         310   \n",
       "2            4                2                           0   \n",
       "3            1                3                           0   \n",
       "4            2                5                           0   \n",
       "\n",
       "   Arrival Delay in Minutes  \n",
       "0                       0.0  \n",
       "1                     305.0  \n",
       "2                       0.0  \n",
       "3                       0.0  \n",
       "4                       0.0  "
      ]
     },
     "execution_count": 2,
     "metadata": {},
     "output_type": "execute_result"
    }
   ],
   "source": [
    "# Import data; create df\n",
    "df0 = pd.read_csv('Invistico_Airline.csv', on_bad_lines='skip')\n",
    "df0.head()"
   ]
  },
  {
   "cell_type": "markdown",
   "id": "6515d260-1326-4e05-ae6b-0096aad19894",
   "metadata": {},
   "source": [
    "## PART I: BASIC EDA\n",
    "Examine data for what it does and does not say"
   ]
  },
  {
   "cell_type": "code",
   "execution_count": 3,
   "id": "c1acb2c0-72e1-44cb-aee7-d1ca19d4f8fe",
   "metadata": {},
   "outputs": [
    {
     "name": "stdout",
     "output_type": "stream",
     "text": [
      "<class 'pandas.core.frame.DataFrame'>\n",
      "RangeIndex: 129880 entries, 0 to 129879\n",
      "Data columns (total 22 columns):\n",
      " #   Column                             Non-Null Count   Dtype  \n",
      "---  ------                             --------------   -----  \n",
      " 0   satisfaction                       129880 non-null  object \n",
      " 1   Customer Type                      129880 non-null  object \n",
      " 2   Age                                129880 non-null  int64  \n",
      " 3   Type of Travel                     129880 non-null  object \n",
      " 4   Class                              129880 non-null  object \n",
      " 5   Flight Distance                    129880 non-null  int64  \n",
      " 6   Seat comfort                       129880 non-null  int64  \n",
      " 7   Departure/Arrival time convenient  129880 non-null  int64  \n",
      " 8   Food and drink                     129880 non-null  int64  \n",
      " 9   Gate location                      129880 non-null  int64  \n",
      " 10  Inflight wifi service              129880 non-null  int64  \n",
      " 11  Inflight entertainment             129880 non-null  int64  \n",
      " 12  Online support                     129880 non-null  int64  \n",
      " 13  Ease of Online booking             129880 non-null  int64  \n",
      " 14  On-board service                   129880 non-null  int64  \n",
      " 15  Leg room service                   129880 non-null  int64  \n",
      " 16  Baggage handling                   129880 non-null  int64  \n",
      " 17  Checkin service                    129880 non-null  int64  \n",
      " 18  Cleanliness                        129880 non-null  int64  \n",
      " 19  Online boarding                    129880 non-null  int64  \n",
      " 20  Departure Delay in Minutes         129880 non-null  int64  \n",
      " 21  Arrival Delay in Minutes           129487 non-null  float64\n",
      "dtypes: float64(1), int64(17), object(4)\n",
      "memory usage: 21.8+ MB\n"
     ]
    }
   ],
   "source": [
    "# Investigate df\n",
    "df0.info()"
   ]
  },
  {
   "cell_type": "code",
   "execution_count": 4,
   "id": "7301e57c-3584-4e6a-b813-264c0a96d22b",
   "metadata": {},
   "outputs": [
    {
     "data": {
      "text/plain": [
       "Index(['satisfaction', 'Customer Type', 'Age', 'Type of Travel', 'Class',\n",
       "       'Flight Distance', 'Seat comfort', 'Departure/Arrival time convenient',\n",
       "       'Food and drink', 'Gate location', 'Inflight wifi service',\n",
       "       'Inflight entertainment', 'Online support', 'Ease of Online booking',\n",
       "       'On-board service', 'Leg room service', 'Baggage handling',\n",
       "       'Checkin service', 'Cleanliness', 'Online boarding',\n",
       "       'Departure Delay in Minutes', 'Arrival Delay in Minutes'],\n",
       "      dtype='object')"
      ]
     },
     "execution_count": 4,
     "metadata": {},
     "output_type": "execute_result"
    }
   ],
   "source": [
    "df0.columns"
   ]
  },
  {
   "cell_type": "code",
   "execution_count": 5,
   "id": "5b5ec1ca-0da6-4dd9-927a-caaca591d7ce",
   "metadata": {},
   "outputs": [
    {
     "data": {
      "text/html": [
       "<div>\n",
       "<style scoped>\n",
       "    .dataframe tbody tr th:only-of-type {\n",
       "        vertical-align: middle;\n",
       "    }\n",
       "\n",
       "    .dataframe tbody tr th {\n",
       "        vertical-align: top;\n",
       "    }\n",
       "\n",
       "    .dataframe thead th {\n",
       "        text-align: right;\n",
       "    }\n",
       "</style>\n",
       "<table border=\"1\" class=\"dataframe\">\n",
       "  <thead>\n",
       "    <tr style=\"text-align: right;\">\n",
       "      <th></th>\n",
       "      <th>Age</th>\n",
       "      <th>Flight Distance</th>\n",
       "      <th>Seat comfort</th>\n",
       "      <th>Departure/Arrival time convenient</th>\n",
       "      <th>Food and drink</th>\n",
       "      <th>Gate location</th>\n",
       "      <th>Inflight wifi service</th>\n",
       "      <th>Inflight entertainment</th>\n",
       "      <th>Online support</th>\n",
       "      <th>Ease of Online booking</th>\n",
       "      <th>On-board service</th>\n",
       "      <th>Leg room service</th>\n",
       "      <th>Baggage handling</th>\n",
       "      <th>Checkin service</th>\n",
       "      <th>Cleanliness</th>\n",
       "      <th>Online boarding</th>\n",
       "      <th>Departure Delay in Minutes</th>\n",
       "      <th>Arrival Delay in Minutes</th>\n",
       "    </tr>\n",
       "  </thead>\n",
       "  <tbody>\n",
       "    <tr>\n",
       "      <th>count</th>\n",
       "      <td>129880.000000</td>\n",
       "      <td>129880.000000</td>\n",
       "      <td>129880.000000</td>\n",
       "      <td>129880.000000</td>\n",
       "      <td>129880.000000</td>\n",
       "      <td>129880.000000</td>\n",
       "      <td>129880.000000</td>\n",
       "      <td>129880.000000</td>\n",
       "      <td>129880.000000</td>\n",
       "      <td>129880.000000</td>\n",
       "      <td>129880.000000</td>\n",
       "      <td>129880.000000</td>\n",
       "      <td>129880.000000</td>\n",
       "      <td>129880.000000</td>\n",
       "      <td>129880.000000</td>\n",
       "      <td>129880.000000</td>\n",
       "      <td>129880.000000</td>\n",
       "      <td>129487.000000</td>\n",
       "    </tr>\n",
       "    <tr>\n",
       "      <th>mean</th>\n",
       "      <td>39.427957</td>\n",
       "      <td>1981.409055</td>\n",
       "      <td>2.838597</td>\n",
       "      <td>2.990645</td>\n",
       "      <td>2.851994</td>\n",
       "      <td>2.990422</td>\n",
       "      <td>3.249130</td>\n",
       "      <td>3.383477</td>\n",
       "      <td>3.519703</td>\n",
       "      <td>3.472105</td>\n",
       "      <td>3.465075</td>\n",
       "      <td>3.485902</td>\n",
       "      <td>3.695673</td>\n",
       "      <td>3.340807</td>\n",
       "      <td>3.705759</td>\n",
       "      <td>3.352587</td>\n",
       "      <td>14.713713</td>\n",
       "      <td>15.091129</td>\n",
       "    </tr>\n",
       "    <tr>\n",
       "      <th>std</th>\n",
       "      <td>15.119360</td>\n",
       "      <td>1027.115606</td>\n",
       "      <td>1.392983</td>\n",
       "      <td>1.527224</td>\n",
       "      <td>1.443729</td>\n",
       "      <td>1.305970</td>\n",
       "      <td>1.318818</td>\n",
       "      <td>1.346059</td>\n",
       "      <td>1.306511</td>\n",
       "      <td>1.305560</td>\n",
       "      <td>1.270836</td>\n",
       "      <td>1.292226</td>\n",
       "      <td>1.156483</td>\n",
       "      <td>1.260582</td>\n",
       "      <td>1.151774</td>\n",
       "      <td>1.298715</td>\n",
       "      <td>38.071126</td>\n",
       "      <td>38.465650</td>\n",
       "    </tr>\n",
       "    <tr>\n",
       "      <th>min</th>\n",
       "      <td>7.000000</td>\n",
       "      <td>50.000000</td>\n",
       "      <td>0.000000</td>\n",
       "      <td>0.000000</td>\n",
       "      <td>0.000000</td>\n",
       "      <td>0.000000</td>\n",
       "      <td>0.000000</td>\n",
       "      <td>0.000000</td>\n",
       "      <td>0.000000</td>\n",
       "      <td>0.000000</td>\n",
       "      <td>0.000000</td>\n",
       "      <td>0.000000</td>\n",
       "      <td>1.000000</td>\n",
       "      <td>0.000000</td>\n",
       "      <td>0.000000</td>\n",
       "      <td>0.000000</td>\n",
       "      <td>0.000000</td>\n",
       "      <td>0.000000</td>\n",
       "    </tr>\n",
       "    <tr>\n",
       "      <th>25%</th>\n",
       "      <td>27.000000</td>\n",
       "      <td>1359.000000</td>\n",
       "      <td>2.000000</td>\n",
       "      <td>2.000000</td>\n",
       "      <td>2.000000</td>\n",
       "      <td>2.000000</td>\n",
       "      <td>2.000000</td>\n",
       "      <td>2.000000</td>\n",
       "      <td>3.000000</td>\n",
       "      <td>2.000000</td>\n",
       "      <td>3.000000</td>\n",
       "      <td>2.000000</td>\n",
       "      <td>3.000000</td>\n",
       "      <td>3.000000</td>\n",
       "      <td>3.000000</td>\n",
       "      <td>2.000000</td>\n",
       "      <td>0.000000</td>\n",
       "      <td>0.000000</td>\n",
       "    </tr>\n",
       "    <tr>\n",
       "      <th>50%</th>\n",
       "      <td>40.000000</td>\n",
       "      <td>1925.000000</td>\n",
       "      <td>3.000000</td>\n",
       "      <td>3.000000</td>\n",
       "      <td>3.000000</td>\n",
       "      <td>3.000000</td>\n",
       "      <td>3.000000</td>\n",
       "      <td>4.000000</td>\n",
       "      <td>4.000000</td>\n",
       "      <td>4.000000</td>\n",
       "      <td>4.000000</td>\n",
       "      <td>4.000000</td>\n",
       "      <td>4.000000</td>\n",
       "      <td>3.000000</td>\n",
       "      <td>4.000000</td>\n",
       "      <td>4.000000</td>\n",
       "      <td>0.000000</td>\n",
       "      <td>0.000000</td>\n",
       "    </tr>\n",
       "    <tr>\n",
       "      <th>75%</th>\n",
       "      <td>51.000000</td>\n",
       "      <td>2544.000000</td>\n",
       "      <td>4.000000</td>\n",
       "      <td>4.000000</td>\n",
       "      <td>4.000000</td>\n",
       "      <td>4.000000</td>\n",
       "      <td>4.000000</td>\n",
       "      <td>4.000000</td>\n",
       "      <td>5.000000</td>\n",
       "      <td>5.000000</td>\n",
       "      <td>4.000000</td>\n",
       "      <td>5.000000</td>\n",
       "      <td>5.000000</td>\n",
       "      <td>4.000000</td>\n",
       "      <td>5.000000</td>\n",
       "      <td>4.000000</td>\n",
       "      <td>12.000000</td>\n",
       "      <td>13.000000</td>\n",
       "    </tr>\n",
       "    <tr>\n",
       "      <th>max</th>\n",
       "      <td>85.000000</td>\n",
       "      <td>6951.000000</td>\n",
       "      <td>5.000000</td>\n",
       "      <td>5.000000</td>\n",
       "      <td>5.000000</td>\n",
       "      <td>5.000000</td>\n",
       "      <td>5.000000</td>\n",
       "      <td>5.000000</td>\n",
       "      <td>5.000000</td>\n",
       "      <td>5.000000</td>\n",
       "      <td>5.000000</td>\n",
       "      <td>5.000000</td>\n",
       "      <td>5.000000</td>\n",
       "      <td>5.000000</td>\n",
       "      <td>5.000000</td>\n",
       "      <td>5.000000</td>\n",
       "      <td>1592.000000</td>\n",
       "      <td>1584.000000</td>\n",
       "    </tr>\n",
       "  </tbody>\n",
       "</table>\n",
       "</div>"
      ],
      "text/plain": [
       "                 Age  Flight Distance   Seat comfort  \\\n",
       "count  129880.000000    129880.000000  129880.000000   \n",
       "mean       39.427957      1981.409055       2.838597   \n",
       "std        15.119360      1027.115606       1.392983   \n",
       "min         7.000000        50.000000       0.000000   \n",
       "25%        27.000000      1359.000000       2.000000   \n",
       "50%        40.000000      1925.000000       3.000000   \n",
       "75%        51.000000      2544.000000       4.000000   \n",
       "max        85.000000      6951.000000       5.000000   \n",
       "\n",
       "       Departure/Arrival time convenient  Food and drink  Gate location  \\\n",
       "count                      129880.000000   129880.000000  129880.000000   \n",
       "mean                            2.990645        2.851994       2.990422   \n",
       "std                             1.527224        1.443729       1.305970   \n",
       "min                             0.000000        0.000000       0.000000   \n",
       "25%                             2.000000        2.000000       2.000000   \n",
       "50%                             3.000000        3.000000       3.000000   \n",
       "75%                             4.000000        4.000000       4.000000   \n",
       "max                             5.000000        5.000000       5.000000   \n",
       "\n",
       "       Inflight wifi service  Inflight entertainment  Online support  \\\n",
       "count          129880.000000           129880.000000   129880.000000   \n",
       "mean                3.249130                3.383477        3.519703   \n",
       "std                 1.318818                1.346059        1.306511   \n",
       "min                 0.000000                0.000000        0.000000   \n",
       "25%                 2.000000                2.000000        3.000000   \n",
       "50%                 3.000000                4.000000        4.000000   \n",
       "75%                 4.000000                4.000000        5.000000   \n",
       "max                 5.000000                5.000000        5.000000   \n",
       "\n",
       "       Ease of Online booking  On-board service  Leg room service  \\\n",
       "count           129880.000000     129880.000000     129880.000000   \n",
       "mean                 3.472105          3.465075          3.485902   \n",
       "std                  1.305560          1.270836          1.292226   \n",
       "min                  0.000000          0.000000          0.000000   \n",
       "25%                  2.000000          3.000000          2.000000   \n",
       "50%                  4.000000          4.000000          4.000000   \n",
       "75%                  5.000000          4.000000          5.000000   \n",
       "max                  5.000000          5.000000          5.000000   \n",
       "\n",
       "       Baggage handling  Checkin service    Cleanliness  Online boarding  \\\n",
       "count     129880.000000    129880.000000  129880.000000    129880.000000   \n",
       "mean           3.695673         3.340807       3.705759         3.352587   \n",
       "std            1.156483         1.260582       1.151774         1.298715   \n",
       "min            1.000000         0.000000       0.000000         0.000000   \n",
       "25%            3.000000         3.000000       3.000000         2.000000   \n",
       "50%            4.000000         3.000000       4.000000         4.000000   \n",
       "75%            5.000000         4.000000       5.000000         4.000000   \n",
       "max            5.000000         5.000000       5.000000         5.000000   \n",
       "\n",
       "       Departure Delay in Minutes  Arrival Delay in Minutes  \n",
       "count               129880.000000             129487.000000  \n",
       "mean                    14.713713                 15.091129  \n",
       "std                     38.071126                 38.465650  \n",
       "min                      0.000000                  0.000000  \n",
       "25%                      0.000000                  0.000000  \n",
       "50%                      0.000000                  0.000000  \n",
       "75%                     12.000000                 13.000000  \n",
       "max                   1592.000000               1584.000000  "
      ]
     },
     "execution_count": 5,
     "metadata": {},
     "output_type": "execute_result"
    }
   ],
   "source": [
    "# Get basic statistics\n",
    "df0.describe()"
   ]
  },
  {
   "cell_type": "markdown",
   "id": "44b7aa14-28b2-4918-aa34-2b9d0f758558",
   "metadata": {},
   "source": [
    "#### Initial summary\n",
    "df has 22 variables (cols) and 129880 observations (rows)<br>\n",
    "columns can be divided: \n",
    "- 4 categorical object: 'satisfaction', 'Customer Type', 'Type of Travel', 'Class'\n",
    "- 17 discrete int64: 'Age', 'Flight Distance', 'Seat comfort', 'Departure/Arrival time convenient',\n",
    "       'Food and drink', 'Gate location', 'Inflight wifi service',\n",
    "       'Inflight entertainment', 'Online support', 'Ease of Online booking',\n",
    "       'On-board service', 'Leg room service', 'Baggage handling',\n",
    "       'Checkin service', 'Cleanliness', 'Online boarding',\n",
    "       'Departure Delay in Minutes'\n",
    "- 1 continuous float64: 'Arrival Delay in Minutes' - not immediately evident why this not the same dtype as Departure Delay\n",
    "\n",
    "Target variable will be satisfaction, because goal is to construct and evaluate a model that predicts whether a future customer would be *satisfied* with their services given previous customer feedback about their flight experience.\n",
    "Since Boolean, will use Inflight entertainment as X for this model, but, really, all would be affecting. Target variable will need to be encoded.\n",
    "\n",
    "- Arrival Delay in Minutes is missing 393 entries \n",
    "- Scale for quality columns 'Seat comfort', 'Departure/Arrival time convenient', 'Food and drink', 'Gate location', 'Inflight wifi service', 'Inflight entertainment', 'Online support', 'Ease of Online booking', 'On-board service', 'Leg room service', 'Baggage handling', 'Checkin service', 'Cleanliness', 'Online boarding' is 1-5\n",
    "- Age ranges from 7 > 85 yrs old; with a median age of 40\n",
    "- Departure Delay in Minutes has a min delay of 0 mins, and a max delay of 1592(~ 26.53hrs)\n",
    "- Arrival Delay in Minutes has a min delay of 0 mins, and a max delay of 1584(26.4hrs)\t"
   ]
  },
  {
   "cell_type": "markdown",
   "id": "5febc265-c1d8-4592-b4f9-dfb34c4e0189",
   "metadata": {},
   "source": [
    "#### Output unique values \n",
    "Further investigate categorical variables: 'satisfaction', 'Customer Type', 'Type of Travel', 'Class'"
   ]
  },
  {
   "cell_type": "code",
   "execution_count": 6,
   "id": "d10aa321-719b-49d1-bbd9-3bc1c62d7e15",
   "metadata": {},
   "outputs": [
    {
     "name": "stdout",
     "output_type": "stream",
     "text": [
      "satisfaction\n",
      "['satisfied' 'dissatisfied']\n",
      "Customer Type\n",
      "['Loyal Customer' 'disloyal Customer']\n",
      "Type of Travel\n",
      "['Personal Travel' 'Business travel']\n",
      "Class\n",
      "['Eco' 'Business' 'Eco Plus']\n"
     ]
    }
   ],
   "source": [
    "print('satisfaction')\n",
    "print(df0['satisfaction'].unique())\n",
    "print('Customer Type')\n",
    "print(df0['Customer Type'].unique())\n",
    "print('Type of Travel')\n",
    "print(df0['Type of Travel'].unique())\n",
    "print('Class')\n",
    "print(df0['Class'].unique())"
   ]
  },
  {
   "cell_type": "code",
   "execution_count": 7,
   "id": "b6bbc4d0-3b72-4ead-a3dd-73d6a23e0f73",
   "metadata": {},
   "outputs": [
    {
     "name": "stdout",
     "output_type": "stream",
     "text": [
      "satisfaction\n",
      "satisfied       71087\n",
      "dissatisfied    58793\n",
      "Name: count, dtype: int64\n",
      "satisfaction\n",
      "satisfied       0.547328\n",
      "dissatisfied    0.452672\n",
      "Name: proportion, dtype: float64\n"
     ]
    }
   ],
   "source": [
    "# Check class balance for target variable: satisfaction\n",
    "print (df0['satisfaction'].value_counts())\n",
    "print (df0['satisfaction'].value_counts(normalize=True))"
   ]
  },
  {
   "cell_type": "code",
   "execution_count": 8,
   "id": "af864e99-f6a6-43c1-87a2-fe3cf911dfff",
   "metadata": {},
   "outputs": [
    {
     "data": {
      "image/png": "[encoded data removed]",
      "text/plain": [
       "<Figure size 400x400 with 1 Axes>"
      ]
     },
     "metadata": {},
     "output_type": "display_data"
    }
   ],
   "source": [
    "# Create pie chart for satisfaction category\n",
    "fig = plt.figure(figsize=(4,4))\n",
    "data=df0['satisfaction'].value_counts()\n",
    "\n",
    "plt.pie(data,\n",
    "        labels=[f'{data.index[0]}: {data.values[0]}',  # f string allows for embedded expressions inside curly braces \n",
    "                f'{data.index[1]}: {data.values[1]}'], # combines the index & value of the 1st element in the data\n",
    "        autopct='%1.1f%%', colors=['#ff9999', '#66b3ff'] # 'autopct' parameter formats the percentage shown on each slice\n",
    "        )                                                # %% displays a percentage sign % in the formatted string\n",
    "plt.title('Users by satisfaction');"
   ]
  },
  {
   "cell_type": "code",
   "execution_count": 9,
   "id": "4b6a80f6-50c5-462c-9441-ef2ef3a0c436",
   "metadata": {},
   "outputs": [
    {
     "name": "stdout",
     "output_type": "stream",
     "text": [
      "Customer Type\n",
      "Loyal Customer       106100\n",
      "disloyal Customer     23780\n",
      "Name: count, dtype: int64\n",
      "Customer Type\n",
      "Loyal Customer       0.816908\n",
      "disloyal Customer    0.183092\n",
      "Name: proportion, dtype: float64\n"
     ]
    }
   ],
   "source": [
    "# Check class balance for Customer Type\n",
    "print (df0['Customer Type'].value_counts())\n",
    "print (df0['Customer Type'].value_counts(normalize=True))"
   ]
  },
  {
   "cell_type": "code",
   "execution_count": 10,
   "id": "c81d3b6b-2b33-4432-9f6b-73cdcbec8dba",
   "metadata": {},
   "outputs": [
    {
     "data": {
      "image/png": "[encoded data removed]",
      "text/plain": [
       "<Figure size 400x400 with 1 Axes>"
      ]
     },
     "metadata": {},
     "output_type": "display_data"
    }
   ],
   "source": [
    "# Create pie chart for Customer Type category\n",
    "fig = plt.figure(figsize=(4,4))\n",
    "data=df0['Customer Type'].value_counts()\n",
    "\n",
    "plt.pie(data,\n",
    "        labels=[f'{data.index[0]}: {data.values[0]}',  # Adding the 1st category\n",
    "                f'{data.index[1]}: {data.values[1]}'],  # Adding the 2nd category\n",
    "        autopct='%1.1f%%', colors=['#ff9999', '#66b3ff']  # Adding colors for two wedges\n",
    "        )\n",
    "plt.title('Customer Type');"
   ]
  },
  {
   "cell_type": "code",
   "execution_count": 11,
   "id": "acd8fd21-c7a4-412a-9d7f-93af253b4bd7",
   "metadata": {},
   "outputs": [
    {
     "name": "stdout",
     "output_type": "stream",
     "text": [
      "Type of Travel\n",
      "Business travel    89693\n",
      "Personal Travel    40187\n",
      "Name: count, dtype: int64\n",
      "Type of Travel\n",
      "Business travel    0.690584\n",
      "Personal Travel    0.309416\n",
      "Name: proportion, dtype: float64\n"
     ]
    }
   ],
   "source": [
    "# Check class balance for Type of Travel\n",
    "print (df0['Type of Travel'].value_counts())\n",
    "print (df0['Type of Travel'].value_counts(normalize=True))"
   ]
  },
  {
   "cell_type": "code",
   "execution_count": 12,
   "id": "1f2d51a9-6c68-497b-85dd-1b878dc5dd08",
   "metadata": {},
   "outputs": [
    {
     "data": {
      "image/png": "[encoded data removed]",
      "text/plain": [
       "<Figure size 400x400 with 1 Axes>"
      ]
     },
     "metadata": {},
     "output_type": "display_data"
    }
   ],
   "source": [
    "# Create pie chart for Customer Type category\n",
    "fig = plt.figure(figsize=(4,4))\n",
    "data=df0['Type of Travel'].value_counts()\n",
    "\n",
    "plt.pie(data,\n",
    "        labels=[f'{data.index[0]}: {data.values[0]}',\n",
    "                f'{data.index[1]}: {data.values[1]}'],\n",
    "        autopct='%1.1f%%', colors=['#ff9999', '#66b3ff']\n",
    "        )\n",
    "plt.title('Type of Travel');"
   ]
  },
  {
   "cell_type": "code",
   "execution_count": 13,
   "id": "e2da5269-ba26-4e09-aa95-733113222e4a",
   "metadata": {},
   "outputs": [
    {
     "name": "stdout",
     "output_type": "stream",
     "text": [
      "Class\n",
      "Business    62160\n",
      "Eco         58309\n",
      "Eco Plus     9411\n",
      "Name: count, dtype: int64\n",
      "Class\n",
      "Business    0.478596\n",
      "Eco         0.448945\n",
      "Eco Plus    0.072459\n",
      "Name: proportion, dtype: float64\n"
     ]
    }
   ],
   "source": [
    "# Check class balance for Class\n",
    "print (df0['Class'].value_counts())\n",
    "print (df0['Class'].value_counts(normalize=True))"
   ]
  },
  {
   "cell_type": "code",
   "execution_count": 14,
   "id": "0c6fb7f5-477c-4677-abd0-85fea7bc3d6d",
   "metadata": {},
   "outputs": [
    {
     "data": {
      "image/png": "[encoded data removed]",
      "text/plain": [
       "<Figure size 400x400 with 1 Axes>"
      ]
     },
     "metadata": {},
     "output_type": "display_data"
    }
   ],
   "source": [
    "# Create pie chart for Class category\n",
    "fig = plt.figure(figsize=(4, 4))\n",
    "data = df0['Class'].value_counts()\n",
    "\n",
    "plt.pie(data,\n",
    "        labels=[f'{data.index[0]}: {data.values[0]}',\n",
    "                f'{data.index[1]}: {data.values[1]}',\n",
    "                f'{data.index[2]}: {data.values[2]}'],  # Adding the third category\n",
    "        autopct='%1.1f%%',\n",
    "        colors=['#ff9999', '#66b3ff', '#99ff99']  # Adding color for the third wedge\n",
    "        )\n",
    "\n",
    "plt.title('Type of Travel');"
   ]
  },
  {
   "cell_type": "markdown",
   "id": "6eb0de1c-ad39-47f0-bce0-9c325babc0f5",
   "metadata": {},
   "source": [
    "#### Summary\n",
    "For this task, a binomial logistic model (rather than linear) is appropriate. Binomial logistic regression is a statistical technique that models the probability of an event (*satisfaction*) based on one (or more) independent variables (*inflight entertainment*). The outcome must be binary (satisfaction/dissatisfaction). 'Inflight entertainment' will be the independent X which will help predict(logistic) whether the person is satisfied (1) or dissatisfied (0) The model will calculate a probability that given a particular value of Inflight entertainment(X), the person is satisfied(y).\n",
    "\n",
    "**`satisfaction`**: 2 values, will be used as target variable (y)\n",
    "- satisfied       71087 (~0.55%)\n",
    "- dissatisfied    58793 (~0.45%)\n",
    "\n",
    "`Customer Type`: 2 values\n",
    "- Loyal Customer        106100 (~0.82%)\n",
    "- disloyal Customer     23780 (~0.18%)\n",
    "\n",
    "`Type of Travel`: 2 values\n",
    "- Business travel    89693 (~0.69%)\n",
    "- Personal Travel    40187 (~0.31%)\n",
    "\n",
    "`Class`: 3 values\n",
    "* Business    62160 (~0.48%)\n",
    "* Eco         58309 (~0.45%)\n",
    "* Eco Plus     9411 (~0.072%)\n",
    "\n",
    "`'satisfaction'` will need to be encoded to plot reg plot later    \n",
    "`'Customer Type'`, `'Type of Travel'`, and `'Class'` for will need to be encoded for ML models"
   ]
  },
  {
   "cell_type": "markdown",
   "id": "649c1b04-9b24-42bf-ae43-3de1348d12af",
   "metadata": {},
   "source": [
    "#### Clean and Transform Data\n",
    "Logistic regression requires no missing values – so, be tidy, even if the column won’t be used in final regression\\\n",
    "Also, as can be seen below:\n",
    "- There are only a small % of missing values (393 out of the total of 129,880)\n",
    "- Arrival Delay in Minutes might impact the relationship between entertainment and satisfaction"
   ]
  },
  {
   "cell_type": "code",
   "execution_count": 15,
   "id": "672bab88-41e6-4a29-8b29-a9384e8583e8",
   "metadata": {},
   "outputs": [
    {
     "name": "stdout",
     "output_type": "stream",
     "text": [
      "satisfaction                           0\n",
      "Customer Type                          0\n",
      "Age                                    0\n",
      "Type of Travel                         0\n",
      "Class                                  0\n",
      "Flight Distance                        0\n",
      "Seat comfort                           0\n",
      "Departure/Arrival time convenient      0\n",
      "Food and drink                         0\n",
      "Gate location                          0\n",
      "Inflight wifi service                  0\n",
      "Inflight entertainment                 0\n",
      "Online support                         0\n",
      "Ease of Online booking                 0\n",
      "On-board service                       0\n",
      "Leg room service                       0\n",
      "Baggage handling                       0\n",
      "Checkin service                        0\n",
      "Cleanliness                            0\n",
      "Online boarding                        0\n",
      "Departure Delay in Minutes             0\n",
      "Arrival Delay in Minutes             393\n",
      "dtype: int64\n"
     ]
    },
    {
     "data": {
      "text/plain": [
       "(129880, 22)"
      ]
     },
     "execution_count": 15,
     "metadata": {},
     "output_type": "execute_result"
    }
   ],
   "source": [
    "# Check for missing values\n",
    "print(df0.isnull().sum())\n",
    "df0.shape"
   ]
  },
  {
   "cell_type": "code",
   "execution_count": 16,
   "id": "26cf6c1a-48dc-4bd3-b160-8262bab419bf",
   "metadata": {},
   "outputs": [
    {
     "data": {
      "text/plain": [
       "satisfaction                         0\n",
       "Customer Type                        0\n",
       "Age                                  0\n",
       "Type of Travel                       0\n",
       "Class                                0\n",
       "Flight Distance                      0\n",
       "Seat comfort                         0\n",
       "Departure/Arrival time convenient    0\n",
       "Food and drink                       0\n",
       "Gate location                        0\n",
       "Inflight wifi service                0\n",
       "Inflight entertainment               0\n",
       "Online support                       0\n",
       "Ease of Online booking               0\n",
       "On-board service                     0\n",
       "Leg room service                     0\n",
       "Baggage handling                     0\n",
       "Checkin service                      0\n",
       "Cleanliness                          0\n",
       "Online boarding                      0\n",
       "Departure Delay in Minutes           0\n",
       "Arrival Delay in Minutes             0\n",
       "dtype: int64"
      ]
     },
     "execution_count": 16,
     "metadata": {},
     "output_type": "execute_result"
    }
   ],
   "source": [
    "# Drop nas, create new df\n",
    "# Set the axis=0 for rows containing missing values (1 for columns)\n",
    "df = df0.dropna(axis=0).reset_index(drop = True) #reset_index = True to avoid a SettingWithCopy warning later in nbk\n",
    "df.isnull().sum()"
   ]
  },
  {
   "cell_type": "code",
   "execution_count": 17,
   "id": "4f87092d-c0c1-4e68-992c-498bef598597",
   "metadata": {},
   "outputs": [
    {
     "data": {
      "text/plain": [
       "(129487, 22)"
      ]
     },
     "execution_count": 17,
     "metadata": {},
     "output_type": "execute_result"
    }
   ],
   "source": [
    "df.shape"
   ]
  },
  {
   "cell_type": "code",
   "execution_count": 18,
   "id": "9f72516f-90a5-44ae-8fde-3b9c3e6b14f9",
   "metadata": {},
   "outputs": [
    {
     "data": {
      "text/plain": [
       "0"
      ]
     },
     "execution_count": 18,
     "metadata": {},
     "output_type": "execute_result"
    }
   ],
   "source": [
    "# Check for duplicates\n",
    "df.duplicated().sum()"
   ]
  },
  {
   "cell_type": "code",
   "execution_count": 19,
   "id": "7cb98581-22bd-4fcd-8327-63bf434404ac",
   "metadata": {},
   "outputs": [
    {
     "data": {
      "text/plain": [
       "Index(['Satisfaction', 'Customer Type', 'Age', 'Type of Travel', 'Class',\n",
       "       'Flight Distance', 'Seat comfort', 'Departure/Arrival time convenient',\n",
       "       'Food and drink', 'Gate location', 'Inflight wifi service',\n",
       "       'Inflight entertainment', 'Online support', 'Ease of Online booking',\n",
       "       'On-board service', 'Leg room service', 'Baggage handling',\n",
       "       'Checkin service', 'Cleanliness', 'Online boarding',\n",
       "       'Departure Delay in Minutes', 'Arrival Delay in Minutes'],\n",
       "      dtype='object')"
      ]
     },
     "execution_count": 19,
     "metadata": {},
     "output_type": "execute_result"
    }
   ],
   "source": [
    "# Rename satisfaction > Satisfaction, because it bugs me\n",
    "df = df.rename(columns={'satisfaction': 'Satisfaction'})\n",
    "df.columns"
   ]
  },
  {
   "cell_type": "code",
   "execution_count": 20,
   "id": "d5608197-829b-4cad-b3a1-5a4743e477b5",
   "metadata": {},
   "outputs": [
    {
     "data": {
      "text/plain": [
       "Satisfaction                          object\n",
       "Customer Type                         object\n",
       "Age                                    int64\n",
       "Type of Travel                        object\n",
       "Class                                 object\n",
       "Flight Distance                        int64\n",
       "Seat comfort                           int64\n",
       "Departure/Arrival time convenient      int64\n",
       "Food and drink                         int64\n",
       "Gate location                          int64\n",
       "Inflight wifi service                  int64\n",
       "Inflight entertainment               float64\n",
       "Online support                         int64\n",
       "Ease of Online booking                 int64\n",
       "On-board service                       int64\n",
       "Leg room service                       int64\n",
       "Baggage handling                       int64\n",
       "Checkin service                        int64\n",
       "Cleanliness                            int64\n",
       "Online boarding                        int64\n",
       "Departure Delay in Minutes             int64\n",
       "Arrival Delay in Minutes             float64\n",
       "dtype: object"
      ]
     },
     "execution_count": 20,
     "metadata": {},
     "output_type": "execute_result"
    }
   ],
   "source": [
    "# Retype Inflight entertainment as continuous float\n",
    "df = df.astype({'Inflight entertainment': float})\n",
    "df.dtypes"
   ]
  },
  {
   "cell_type": "markdown",
   "id": "2298d38a-02cd-4831-ad5d-66dafa24d684",
   "metadata": {},
   "source": [
    "#### Encode data"
   ]
  },
  {
   "cell_type": "code",
   "execution_count": 21,
   "id": "0486f73b-a8c9-483c-b837-25133e18a939",
   "metadata": {},
   "outputs": [],
   "source": [
    "# Convert categorical satisfaction into binary numerics\n",
    "df['Satisfaction'] = df['Satisfaction'].map({'satisfied': 1, 'dissatisfied': 0})"
   ]
  },
  {
   "cell_type": "code",
   "execution_count": 22,
   "id": "18639326-1ac5-4039-ad4f-9f5a7a672bc1",
   "metadata": {},
   "outputs": [
    {
     "name": "stdout",
     "output_type": "stream",
     "text": [
      "Satisfaction\n",
      "1    70882\n",
      "0    58605\n",
      "Name: count, dtype: int64\n",
      "Satisfaction\n",
      "1    0.547406\n",
      "0    0.452594\n",
      "Name: proportion, dtype: float64\n"
     ]
    }
   ],
   "source": [
    "# Check class balance for target variable: satisfaction\n",
    "print (df['Satisfaction'].value_counts())\n",
    "print (df['Satisfaction'].value_counts(normalize=True))"
   ]
  },
  {
   "cell_type": "markdown",
   "id": "677139a4-f222-4a5b-9134-874e6f1718ce",
   "metadata": {},
   "source": [
    "Results:\\\n",
    "Satisfaction is now a discrete binary int: 0 or 1\n",
    "- satisfied 70882 (~0.55%) = 1\n",
    "- dissatisfied 58605 (~0.45%) = 0\n",
    "- There are 129487 observations (rows). None are missing values."
   ]
  },
  {
   "cell_type": "code",
   "execution_count": 23,
   "id": "850ad55f-d28a-4295-b967-057760dbae6c",
   "metadata": {},
   "outputs": [],
   "source": [
    "# Export the new df\n",
    "df.to_csv('transformed_invistico.csv', index=0)"
   ]
  },
  {
   "cell_type": "code",
   "execution_count": 24,
   "id": "89c430d5-0c63-4a0b-bc8e-53c19c4dac5d",
   "metadata": {},
   "outputs": [
    {
     "data": {
      "text/html": [
       "<div>\n",
       "<style scoped>\n",
       "    .dataframe tbody tr th:only-of-type {\n",
       "        vertical-align: middle;\n",
       "    }\n",
       "\n",
       "    .dataframe tbody tr th {\n",
       "        vertical-align: top;\n",
       "    }\n",
       "\n",
       "    .dataframe thead th {\n",
       "        text-align: right;\n",
       "    }\n",
       "</style>\n",
       "<table border=\"1\" class=\"dataframe\">\n",
       "  <thead>\n",
       "    <tr style=\"text-align: right;\">\n",
       "      <th></th>\n",
       "      <th>Satisfaction</th>\n",
       "      <th>Customer Type</th>\n",
       "      <th>Age</th>\n",
       "      <th>Type of Travel</th>\n",
       "      <th>Class</th>\n",
       "      <th>Flight Distance</th>\n",
       "      <th>Seat comfort</th>\n",
       "      <th>Departure/Arrival time convenient</th>\n",
       "      <th>Food and drink</th>\n",
       "      <th>Gate location</th>\n",
       "      <th>Inflight wifi service</th>\n",
       "      <th>Inflight entertainment</th>\n",
       "      <th>Online support</th>\n",
       "      <th>Ease of Online booking</th>\n",
       "      <th>On-board service</th>\n",
       "      <th>Leg room service</th>\n",
       "      <th>Baggage handling</th>\n",
       "      <th>Checkin service</th>\n",
       "      <th>Cleanliness</th>\n",
       "      <th>Online boarding</th>\n",
       "      <th>Departure Delay in Minutes</th>\n",
       "      <th>Arrival Delay in Minutes</th>\n",
       "    </tr>\n",
       "  </thead>\n",
       "  <tbody>\n",
       "    <tr>\n",
       "      <th>0</th>\n",
       "      <td>1</td>\n",
       "      <td>Loyal Customer</td>\n",
       "      <td>65</td>\n",
       "      <td>Personal Travel</td>\n",
       "      <td>Eco</td>\n",
       "      <td>265</td>\n",
       "      <td>0</td>\n",
       "      <td>0</td>\n",
       "      <td>0</td>\n",
       "      <td>2</td>\n",
       "      <td>2</td>\n",
       "      <td>4.0</td>\n",
       "      <td>2</td>\n",
       "      <td>3</td>\n",
       "      <td>3</td>\n",
       "      <td>0</td>\n",
       "      <td>3</td>\n",
       "      <td>5</td>\n",
       "      <td>3</td>\n",
       "      <td>2</td>\n",
       "      <td>0</td>\n",
       "      <td>0.0</td>\n",
       "    </tr>\n",
       "    <tr>\n",
       "      <th>1</th>\n",
       "      <td>1</td>\n",
       "      <td>Loyal Customer</td>\n",
       "      <td>47</td>\n",
       "      <td>Personal Travel</td>\n",
       "      <td>Business</td>\n",
       "      <td>2464</td>\n",
       "      <td>0</td>\n",
       "      <td>0</td>\n",
       "      <td>0</td>\n",
       "      <td>3</td>\n",
       "      <td>0</td>\n",
       "      <td>2.0</td>\n",
       "      <td>2</td>\n",
       "      <td>3</td>\n",
       "      <td>4</td>\n",
       "      <td>4</td>\n",
       "      <td>4</td>\n",
       "      <td>2</td>\n",
       "      <td>3</td>\n",
       "      <td>2</td>\n",
       "      <td>310</td>\n",
       "      <td>305.0</td>\n",
       "    </tr>\n",
       "    <tr>\n",
       "      <th>2</th>\n",
       "      <td>1</td>\n",
       "      <td>Loyal Customer</td>\n",
       "      <td>15</td>\n",
       "      <td>Personal Travel</td>\n",
       "      <td>Eco</td>\n",
       "      <td>2138</td>\n",
       "      <td>0</td>\n",
       "      <td>0</td>\n",
       "      <td>0</td>\n",
       "      <td>3</td>\n",
       "      <td>2</td>\n",
       "      <td>0.0</td>\n",
       "      <td>2</td>\n",
       "      <td>2</td>\n",
       "      <td>3</td>\n",
       "      <td>3</td>\n",
       "      <td>4</td>\n",
       "      <td>4</td>\n",
       "      <td>4</td>\n",
       "      <td>2</td>\n",
       "      <td>0</td>\n",
       "      <td>0.0</td>\n",
       "    </tr>\n",
       "    <tr>\n",
       "      <th>3</th>\n",
       "      <td>1</td>\n",
       "      <td>Loyal Customer</td>\n",
       "      <td>60</td>\n",
       "      <td>Personal Travel</td>\n",
       "      <td>Eco</td>\n",
       "      <td>623</td>\n",
       "      <td>0</td>\n",
       "      <td>0</td>\n",
       "      <td>0</td>\n",
       "      <td>3</td>\n",
       "      <td>3</td>\n",
       "      <td>4.0</td>\n",
       "      <td>3</td>\n",
       "      <td>1</td>\n",
       "      <td>1</td>\n",
       "      <td>0</td>\n",
       "      <td>1</td>\n",
       "      <td>4</td>\n",
       "      <td>1</td>\n",
       "      <td>3</td>\n",
       "      <td>0</td>\n",
       "      <td>0.0</td>\n",
       "    </tr>\n",
       "    <tr>\n",
       "      <th>4</th>\n",
       "      <td>1</td>\n",
       "      <td>Loyal Customer</td>\n",
       "      <td>70</td>\n",
       "      <td>Personal Travel</td>\n",
       "      <td>Eco</td>\n",
       "      <td>354</td>\n",
       "      <td>0</td>\n",
       "      <td>0</td>\n",
       "      <td>0</td>\n",
       "      <td>3</td>\n",
       "      <td>4</td>\n",
       "      <td>3.0</td>\n",
       "      <td>4</td>\n",
       "      <td>2</td>\n",
       "      <td>2</td>\n",
       "      <td>0</td>\n",
       "      <td>2</td>\n",
       "      <td>4</td>\n",
       "      <td>2</td>\n",
       "      <td>5</td>\n",
       "      <td>0</td>\n",
       "      <td>0.0</td>\n",
       "    </tr>\n",
       "  </tbody>\n",
       "</table>\n",
       "</div>"
      ],
      "text/plain": [
       "   Satisfaction   Customer Type  Age   Type of Travel     Class  \\\n",
       "0             1  Loyal Customer   65  Personal Travel       Eco   \n",
       "1             1  Loyal Customer   47  Personal Travel  Business   \n",
       "2             1  Loyal Customer   15  Personal Travel       Eco   \n",
       "3             1  Loyal Customer   60  Personal Travel       Eco   \n",
       "4             1  Loyal Customer   70  Personal Travel       Eco   \n",
       "\n",
       "   Flight Distance  Seat comfort  Departure/Arrival time convenient  \\\n",
       "0              265             0                                  0   \n",
       "1             2464             0                                  0   \n",
       "2             2138             0                                  0   \n",
       "3              623             0                                  0   \n",
       "4              354             0                                  0   \n",
       "\n",
       "   Food and drink  Gate location  Inflight wifi service  \\\n",
       "0               0              2                      2   \n",
       "1               0              3                      0   \n",
       "2               0              3                      2   \n",
       "3               0              3                      3   \n",
       "4               0              3                      4   \n",
       "\n",
       "   Inflight entertainment  Online support  Ease of Online booking  \\\n",
       "0                     4.0               2                       3   \n",
       "1                     2.0               2                       3   \n",
       "2                     0.0               2                       2   \n",
       "3                     4.0               3                       1   \n",
       "4                     3.0               4                       2   \n",
       "\n",
       "   On-board service  Leg room service  Baggage handling  Checkin service  \\\n",
       "0                 3                 0                 3                5   \n",
       "1                 4                 4                 4                2   \n",
       "2                 3                 3                 4                4   \n",
       "3                 1                 0                 1                4   \n",
       "4                 2                 0                 2                4   \n",
       "\n",
       "   Cleanliness  Online boarding  Departure Delay in Minutes  \\\n",
       "0            3                2                           0   \n",
       "1            3                2                         310   \n",
       "2            4                2                           0   \n",
       "3            1                3                           0   \n",
       "4            2                5                           0   \n",
       "\n",
       "   Arrival Delay in Minutes  \n",
       "0                       0.0  \n",
       "1                     305.0  \n",
       "2                       0.0  \n",
       "3                       0.0  \n",
       "4                       0.0  "
      ]
     },
     "execution_count": 24,
     "metadata": {},
     "output_type": "execute_result"
    }
   ],
   "source": [
    "# Check new csv was created\n",
    "df = pd.read_csv('transformed_invistico.csv')\n",
    "df.head()"
   ]
  },
  {
   "cell_type": "markdown",
   "id": "1dcefd64-9abb-4cfe-9c03-6637f9d54f1a",
   "metadata": {},
   "source": [
    "## PART II: Build a binomial logistic regression model"
   ]
  },
  {
   "cell_type": "markdown",
   "id": "ecd1f51f-6d72-4b3c-a271-df8c17b342a3",
   "metadata": {},
   "source": [
    "### Prepare data for modelling\n",
    "Split the data into: \n",
    "- features and target variable\n",
    "- training data(75%) and test data(25%)\n",
    "- no need to stratify, because data set is balanced\n",
    "- set a random seed so work can be reproduced (42)"
   ]
  },
  {
   "cell_type": "code",
   "execution_count": 25,
   "id": "3c4225c0-e7cb-44c4-9430-e0c68e2afb61",
   "metadata": {},
   "outputs": [],
   "source": [
    "# Subset independent X and dependent y\n",
    "X = df[['Inflight entertainment']]\n",
    "y = df['Satisfaction']"
   ]
  },
  {
   "cell_type": "code",
   "execution_count": 26,
   "id": "9bfa0e0d-1222-4ea9-bbad-14ce5921db3f",
   "metadata": {},
   "outputs": [
    {
     "data": {
      "text/plain": [
       "Satisfaction\n",
       "1    0.547406\n",
       "0    0.452594\n",
       "Name: proportion, dtype: float64"
      ]
     },
     "execution_count": 26,
     "metadata": {},
     "output_type": "execute_result"
    }
   ],
   "source": [
    "# Display balance of dependent y variable and verify is binary as required for a logistic regression\n",
    "y.value_counts(normalize=True)"
   ]
  },
  {
   "cell_type": "code",
   "execution_count": 27,
   "id": "7ced0e4d-09f5-4c1e-8fdb-d8ef05122bf6",
   "metadata": {},
   "outputs": [
    {
     "data": {
      "image/png": "[encoded data removed]",
      "text/plain": [
       "<Figure size 640x480 with 1 Axes>"
      ]
     },
     "metadata": {},
     "output_type": "display_data"
    }
   ],
   "source": [
    "# Verify independent variable is not binary\n",
    "X.hist();"
   ]
  },
  {
   "cell_type": "markdown",
   "id": "4cc4b9c3-1c35-4356-979b-f985be25bb18",
   "metadata": {},
   "source": [
    "- Independent X variable is a float with 5 values, with left skew\n",
    "- Dependent y variable is a Boolean value with a healthy ~55/45% ratio\n",
    "- No need to stratify or scale because data set is balanced"
   ]
  },
  {
   "cell_type": "code",
   "execution_count": 28,
   "id": "471712d3-9b46-4594-904e-a6e7b5d22689",
   "metadata": {},
   "outputs": [],
   "source": [
    "# Split data into test and train sets\n",
    "X_train, X_test, y_train, y_test = train_test_split(X, y, test_size=0.3, random_state=42)"
   ]
  },
  {
   "cell_type": "code",
   "execution_count": 29,
   "id": "91c595b1-7831-4404-b152-583a11947b49",
   "metadata": {},
   "outputs": [
    {
     "name": "stdout",
     "output_type": "stream",
     "text": [
      "(90640, 1)\n",
      "(38847, 1)\n",
      "(90640,)\n",
      "(38847,)\n"
     ]
    }
   ],
   "source": [
    "# Verify shape of splits\n",
    "print(X_train.shape) # This will be the total # of predictions on the train data\n",
    "print(X_test.shape) # This will be the total # of predictions on the test data\n",
    "print(y_train.shape)\n",
    "print(y_test.shape) "
   ]
  },
  {
   "cell_type": "code",
   "execution_count": 30,
   "id": "42f49383-f475-4de9-a8c6-ea9e2df4bded",
   "metadata": {},
   "outputs": [
    {
     "data": {
      "text/plain": [
       "Satisfaction\n",
       "1    49674\n",
       "0    40966\n",
       "Name: count, dtype: int64"
      ]
     },
     "execution_count": 30,
     "metadata": {},
     "output_type": "execute_result"
    }
   ],
   "source": [
    "# Check balance of training set\n",
    "y_train.value_counts()"
   ]
  },
  {
   "cell_type": "code",
   "execution_count": 31,
   "id": "d6539c8f-5f08-4c92-9cd0-888f8cc92906",
   "metadata": {},
   "outputs": [
    {
     "data": {
      "text/plain": [
       "Satisfaction\n",
       "1    21208\n",
       "0    17639\n",
       "Name: count, dtype: int64"
      ]
     },
     "execution_count": 31,
     "metadata": {},
     "output_type": "execute_result"
    }
   ],
   "source": [
    "# Check balance of test set\n",
    "y_test.value_counts()"
   ]
  },
  {
   "cell_type": "markdown",
   "id": "781058c1-ff9c-4687-978d-89d3be4e119c",
   "metadata": {},
   "source": [
    "#### Build and plot logistic regression classification model (clf)"
   ]
  },
  {
   "cell_type": "code",
   "execution_count": 32,
   "id": "3e9562d9-a1dc-4337-9a7e-6c2a8d14327d",
   "metadata": {},
   "outputs": [],
   "source": [
    "# Instantiate and fit the model\n",
    "log_clf = LogisticRegression().fit(X_train,y_train)"
   ]
  },
  {
   "cell_type": "code",
   "execution_count": 33,
   "id": "45ae420c-50a7-4602-a7ea-61d15131651f",
   "metadata": {},
   "outputs": [
    {
     "name": "stdout",
     "output_type": "stream",
     "text": [
      "[[0.99751462]]\n",
      "[-3.19355406]\n"
     ]
    }
   ],
   "source": [
    "# Get coefficients (parameter and intercept [betas]) for regplot\n",
    "print(log_clf.coef_)\n",
    "print(log_clf.intercept_)"
   ]
  },
  {
   "cell_type": "markdown",
   "id": "bb78291b-f6e1-484c-aecf-659578015342",
   "metadata": {},
   "source": [
    "Model has a coef (parameter estimate) 0.99751462(β1) and intercept -3.19355406(β̂0)"
   ]
  },
  {
   "cell_type": "code",
   "execution_count": 34,
   "id": "d344706f-bbd0-4424-a668-bfa5cc289413",
   "metadata": {},
   "outputs": [
    {
     "data": {
      "image/png": "[encoded data removed]",
      "text/plain": [
       "<Figure size 640x480 with 1 Axes>"
      ]
     },
     "metadata": {},
     "output_type": "display_data"
    }
   ],
   "source": [
    "# Plot model and data with a 95% confidence band using the regplot() function\n",
    "sns.regplot(x='Inflight entertainment', y='Satisfaction', data=df, logistic=True, ci=None); \n",
    "# logistic=True, because logitic model, not linear\n",
    "# ci= function specify the confidence interval for the regression estimate. None = no confidence band\n",
    "# Shows the same curve without the ci = (but, takes forever)"
   ]
  },
  {
   "cell_type": "markdown",
   "id": "4d62fd3f-92d5-4c83-8760-1726f9c3a612",
   "metadata": {},
   "source": [
    "#### Results and evaluation\n",
    "- get predictions on testing data – because not carrying forward\n",
    "- get metrics: accuracy, precision, recall, and F1 score\n",
    "- create confusion matrix\n",
    "- create ROC curve\n",
    "- create AUC"
   ]
  },
  {
   "cell_type": "code",
   "execution_count": 35,
   "id": "23fbfb1c-1709-4914-b4f5-02e977d4808e",
   "metadata": {},
   "outputs": [
    {
     "name": "stdout",
     "output_type": "stream",
     "text": [
      "[1 0 0 ... 0 0 0]\n"
     ]
    }
   ],
   "source": [
    "# Use the trained model to make predictions on the test set\n",
    "# Save predictions\n",
    "y_pred = log_clf.predict(X_test)\n",
    "print(y_pred)"
   ]
  },
  {
   "cell_type": "code",
   "execution_count": 36,
   "id": "612bdfa8-2f84-4a7b-8bec-eef9ad8e38c1",
   "metadata": {},
   "outputs": [
    {
     "data": {
      "text/plain": [
       "array([[0.14258068, 0.85741932],\n",
       "       [0.55008402, 0.44991598],\n",
       "       [0.89989329, 0.10010671],\n",
       "       ...,\n",
       "       [0.89989329, 0.10010671],\n",
       "       [0.76826225, 0.23173775],\n",
       "       [0.55008402, 0.44991598]])"
      ]
     },
     "execution_count": 36,
     "metadata": {},
     "output_type": "execute_result"
    }
   ],
   "source": [
    "# Use predict_proba to output a probability\n",
    "log_clf.predict_proba(X_test)"
   ]
  },
  {
   "cell_type": "markdown",
   "id": "41f43ff0-b857-46a1-b1d0-9cf81e3f7504",
   "metadata": {},
   "source": [
    "The predict function works by assuming a threshold of 0.5\n",
    "- So if MLE predicts a value >= 0.5, the predict function will label that observation a 1\n",
    "- If MLE predicts a value < 0.5, the predict function will label that observation a 0\n",
    "\n",
    "Maximum likelihood estimation, or MLE, is a technique for estimating the beta parameters that maximize the likelihood of the model producing the observed data. Likelihood = the probability of observing the actual data given some set of beta parameters."
   ]
  },
  {
   "cell_type": "code",
   "execution_count": 37,
   "id": "d972683d-554e-4e03-b6a1-5e9756dcdcaa",
   "metadata": {},
   "outputs": [
    {
     "data": {
      "image/png": "[encoded data removed]",
      "text/plain": [
       "<Figure size 640x480 with 2 Axes>"
      ]
     },
     "metadata": {},
     "output_type": "display_data"
    }
   ],
   "source": [
    "# Create confusion matrix to visualize how accurate classifier is at predicting the labels for a categorical variable\n",
    "# Calculate the values for each quadrant in the confusion matrix\n",
    "cm = confusion_matrix(y_test, y_pred, labels = log_clf.classes_) # clf.classes_ (classifications)\n",
    "\n",
    "# Visualize confusion matrix\n",
    "log_disp = ConfusionMatrixDisplay(confusion_matrix = cm,display_labels=['dissatisfied(0)', 'satisfied(1)']) #display_labels = clf.classes_\n",
    "\n",
    "log_disp.plot()\n",
    "plt.title('Satisfaction Report');"
   ]
  },
  {
   "cell_type": "markdown",
   "id": "58a05be8-b973-442d-9c02-48145d3080ac",
   "metadata": {},
   "source": [
    "*Legend*\n",
    "- True label (y_test): actual labels of the holdout sample\n",
    "- Predicted label (y_pred): predicted labels (satisfied/dissatisfied [clf.classes_]) on the holdout test sample\n",
    "\n",
    "Since this is a binomial logistic regression, there are only two labels, 0 and 1\n",
    "- 0 = the person was labeled as dissatisfied for that observation\n",
    "- 1 = a person was labeled as satisfied for that observation"
   ]
  },
  {
   "cell_type": "markdown",
   "id": "4fb7eae5-9fd2-4a12-9107-5080daf01a12",
   "metadata": {},
   "source": [
    "*Translation*\n",
    "- True negatives(UL): # of people that were dissatisfied(0) that the model accurately predicted as dissatisfied(0) = 13714\n",
    "- True positives(LR): # of people that were satisfied(1) that the model accurately predicted were satisfied(1) = 17423\n",
    "  \n",
    "- False positives(UR)/ Type I Errors: # of people that were dissatisfied(0) that the model inaccurately predicted were satisfied(1) = 3925\n",
    "- False negatives(LL)/Type II Errors: # of people that were satisfied(1) that the model inaccurately predicted were dissatisfied(0) = 3785\n",
    "\n",
    "Immediately seen from the model is a med-high proportion of true positives and true negatives (where the matrix accurately predicted that the customer would be satisfied or dissatisfied, respectively) to false positives and false negatives.\n",
    "\n",
    "There is also a proportional relationship between false positives and false negatives (where the matrix inaccurately predicted that the customer would be satisfied or dissatisfied, respectively."
   ]
  },
  {
   "cell_type": "code",
   "execution_count": 38,
   "id": "4d030458-a0e7-4704-ab13-eac96f4b95ef",
   "metadata": {},
   "outputs": [
    {
     "data": {
      "text/html": [
       "<div>\n",
       "<style scoped>\n",
       "    .dataframe tbody tr th:only-of-type {\n",
       "        vertical-align: middle;\n",
       "    }\n",
       "\n",
       "    .dataframe tbody tr th {\n",
       "        vertical-align: top;\n",
       "    }\n",
       "\n",
       "    .dataframe thead th {\n",
       "        text-align: right;\n",
       "    }\n",
       "</style>\n",
       "<table border=\"1\" class=\"dataframe\">\n",
       "  <thead>\n",
       "    <tr style=\"text-align: right;\">\n",
       "      <th></th>\n",
       "      <th>Model</th>\n",
       "      <th>Precision</th>\n",
       "      <th>Recall</th>\n",
       "      <th>Accuracy</th>\n",
       "      <th>F1</th>\n",
       "    </tr>\n",
       "  </thead>\n",
       "  <tbody>\n",
       "    <tr>\n",
       "      <th>0</th>\n",
       "      <td>Logistic regression</td>\n",
       "      <td>0.816142</td>\n",
       "      <td>0.821530</td>\n",
       "      <td>0.801529</td>\n",
       "      <td>0.818827</td>\n",
       "    </tr>\n",
       "  </tbody>\n",
       "</table>\n",
       "</div>"
      ],
      "text/plain": [
       "                 Model Precision    Recall  Accuracy        F1\n",
       "0  Logistic regression  0.816142  0.821530  0.801529  0.818827"
      ]
     },
     "execution_count": 38,
     "metadata": {},
     "output_type": "execute_result"
    }
   ],
   "source": [
    "# Create table of results for metrics\n",
    "# precision_score(y_test,y_pred) = Y values in holdout testing dataset &  Y values that model predicted from the X values in holdout test dataset \n",
    "result_table = pd.DataFrame({'Model': ['Logistic regression'],\n",
    "                      'Precision': ['%.6f' % precision_score(y_test, y_pred)],\n",
    "                      'Recall': ['%.6f' % recall_score(y_test, y_pred)],\n",
    "                      'Accuracy': ['%.6f' % accuracy_score(y_test, y_pred)],\n",
    "                      'F1': ['%.6f' % f1_score(y_test, y_pred)]\n",
    "                     },)\n",
    "result_table"
   ]
  },
  {
   "cell_type": "code",
   "execution_count": 39,
   "id": "fa0d45a6-40f2-4173-86bb-dda6fc3ccbbf",
   "metadata": {},
   "outputs": [
    {
     "name": "stdout",
     "output_type": "stream",
     "text": [
      "              precision    recall  f1-score   support\n",
      "\n",
      "dissatisfied       0.78      0.78      0.78     17639\n",
      "   satisfied       0.82      0.82      0.82     21208\n",
      "\n",
      "    accuracy                           0.80     38847\n",
      "   macro avg       0.80      0.80      0.80     38847\n",
      "weighted avg       0.80      0.80      0.80     38847\n",
      "\n"
     ]
    }
   ],
   "source": [
    "# Create classification_report\n",
    "target_labels = ['dissatisfied', 'satisfied']\n",
    "print(classification_report(y_test, y_pred, target_names = target_labels))"
   ]
  },
  {
   "cell_type": "markdown",
   "id": "6f7ce50f-d92c-4eab-93cc-2d2f6737f93e",
   "metadata": {},
   "source": [
    "**Precision**: measures the % of customers that are actually satisfied out of all the customers that have been predicted to be satisfied (# true positives(17423) / (# true positives(17423) + # false positives(3925))\n",
    "\n",
    "*The good* \\\n",
    "This model has a precision score of 0.82, thus it is quite good at precisely predicting whether an airline customer will be satisfied (true positives), based on the inflight entertainment currently on offer. In an effort to be precise, the model also attempts to reduce the occurrences of incorrectly classifying people as satisfied when they are dissatisfied (false positives/Type I errors). \n",
    "\n",
    "*The bad* \\\n",
    "In its goal to be precise (not classify people as satisfied when they are dissatisfied), the algorithm can become more selective. A higher rate of precision may mean that more samples are classified as dissatisfied, when then are satisfied (false-negative/Type II errors). Thus, satisfied customers can be missed. \n",
    "\n",
    "The conclusion \\\n",
    "Because the airline is interested in learning if a new customer would be satisfied based on their current inflight entertainment, an 82% satisfaction rate is excellent. This is particularly true if the algorithm has even missed satisfied people.\n",
    "\n",
    "**Recall**: measures the % of satisfied customers that the classifier correctly identified as satisfied out of all satisfied observations in the test set (21208). (# true positives(17423) / (# true positives(17423) + # false negatives(3785)) \n",
    "\n",
    "*The good* \\\n",
    "This model has a precision score of 0.82, thus it is quite good at correctly identifying whether the airline passenger will be satisfied, based on the inflight entertainment currently on offer, out of all customers who were tagged as satisfied (y_test = 21208 [17423 + 3785]). The model is also less likely miss people who are satisfied (to incorrectly classify people as dissatisfied who are satisfied (false-negative/Type II errors)).\n",
    "\n",
    "*The bad* \\\n",
    "However, because the model is more sensitive to finding satisfied people, it can be prone to incorrectly categorizing people as satisfied (false-positives/Type-I error) when they are dissatisfied. \n",
    "\n",
    "The conclusion \\\n",
    "If the score were higher than 0.82 the airline may not want to put too much stock in their current inflight entertainment as a variable which predicts satisfaction – since some people would have been dissatisfied with it and they would not have been classified as such. The score of 0.82 (or 3925 missed people), may not weigh heavily.\n",
    "\n",
    "**Accuracy** is the percentage of data points that were correctly classified out of all total predictions (# true positives(17423) + # true negatives(13714) / # total predictions(38847)). The model achieved an accuracy score of 0.80 which is quite good.\n",
    "\n",
    "*The bad* \\\n",
    "Accuracy can be misleading if the data set is unbalanced. The algorithm could be poor at balancing false positive and false negatives because it does not account for the distribution of classes (satisfied/dissatisfied). It could be excellent at predicting one class (e.g., the majority) and being terrible at predicting the other (e.g., the minority) and return a very good accuracy score.\n",
    "\n",
    "The conclusion \\\n",
    "Since this class was mostly balanced (21208 (1)/ 17639 (0)), an accuracy of 0.80 likely reflects a well balanced result.\n",
    "\n",
    "**F1 Score** (the harmonic mean) balances precision (minimizing false positives or Type I errors) and recall (minimizing false negatives or Type II errors) performance, providing a single value for evaluation.<br>\n",
    "\n",
    "The conclusion \\\n",
    "The combined F1 score of 0.82 is quite good. It means that the model is mostly effective at minimizing both type of errors. \n"
   ]
  },
  {
   "cell_type": "code",
   "execution_count": 40,
   "id": "f5d71071-cf10-4c88-9558-da9410d2a614",
   "metadata": {},
   "outputs": [],
   "source": [
    "# Save results table as csv\n",
    "result_table.to_csv('Satisfaction_Results.csv', index = False) # index = False to remove indexing row"
   ]
  },
  {
   "cell_type": "code",
   "execution_count": 41,
   "id": "e2619066-fe63-4a02-bbb4-b92227e9c730",
   "metadata": {},
   "outputs": [
    {
     "data": {
      "text/html": [
       "<div>\n",
       "<style scoped>\n",
       "    .dataframe tbody tr th:only-of-type {\n",
       "        vertical-align: middle;\n",
       "    }\n",
       "\n",
       "    .dataframe tbody tr th {\n",
       "        vertical-align: top;\n",
       "    }\n",
       "\n",
       "    .dataframe thead th {\n",
       "        text-align: right;\n",
       "    }\n",
       "</style>\n",
       "<table border=\"1\" class=\"dataframe\">\n",
       "  <thead>\n",
       "    <tr style=\"text-align: right;\">\n",
       "      <th></th>\n",
       "      <th>Model</th>\n",
       "      <th>Precision</th>\n",
       "      <th>Recall</th>\n",
       "      <th>Accuracy</th>\n",
       "      <th>F1</th>\n",
       "    </tr>\n",
       "  </thead>\n",
       "  <tbody>\n",
       "    <tr>\n",
       "      <th>0</th>\n",
       "      <td>Logistic regression</td>\n",
       "      <td>0.816142</td>\n",
       "      <td>0.82153</td>\n",
       "      <td>0.801529</td>\n",
       "      <td>0.818827</td>\n",
       "    </tr>\n",
       "  </tbody>\n",
       "</table>\n",
       "</div>"
      ],
      "text/plain": [
       "                 Model  Precision   Recall  Accuracy        F1\n",
       "0  Logistic regression   0.816142  0.82153  0.801529  0.818827"
      ]
     },
     "execution_count": 41,
     "metadata": {},
     "output_type": "execute_result"
    }
   ],
   "source": [
    "# View the results\n",
    "table = pd.read_csv('Satisfaction_Results.csv')\n",
    "table.head()"
   ]
  },
  {
   "cell_type": "markdown",
   "id": "001a3def-cc52-44c4-b202-b4d29e118ebb",
   "metadata": {},
   "source": [
    "### Plot ROC and AOC\n",
    "Visualize the performance of the logistic regression classifier(clf)\n",
    "\n",
    "**ROC curve (receiver operating characteristic curve)**  \n",
    "- A ROC curse visualizes the performance of a classifier at different classification thresholds\n",
    "- For binary classification: a classification threshold is a cutoff(point) for differentiating the positive class from the negative class\n",
    "- y axis: True Positive Rate (Recall). The probability that model predicts a positive and it is negative (Sensitivity).\n",
    "- X axis: False Positive Rate (= False Positives / (False Positives + True Negatives)). The probability that model predicts a negative and it is negative (Specificity)\n",
    "\n",
    "**AUC (area under the ROC curve)** \n",
    "- The AUC score provides an aggregate measure of performance of the model at each threshold."
   ]
  },
  {
   "cell_type": "code",
   "execution_count": 42,
   "id": "d54b9e63-0570-497a-88ad-69b87e23cb78",
   "metadata": {},
   "outputs": [
    {
     "data": {
      "image/png": "[encoded data removed]",
      "text/plain": [
       "<Figure size 640x480 with 1 Axes>"
      ]
     },
     "metadata": {},
     "output_type": "display_data"
    }
   ],
   "source": [
    "# Plot ROC curve\n",
    "RocCurveDisplay.from_predictions(y_test, y_pred)\n",
    "plt.show()"
   ]
  },
  {
   "cell_type": "code",
   "execution_count": 43,
   "id": "4c107c2e-eca1-461c-81ac-fa591c89047a",
   "metadata": {},
   "outputs": [
    {
     "data": {
      "text/plain": [
       "0.7995056640589874"
      ]
     },
     "execution_count": 43,
     "metadata": {},
     "output_type": "execute_result"
    }
   ],
   "source": [
    "# Compute the AUC\n",
    "roc_auc_score(y_test,y_pred)"
   ]
  },
  {
   "cell_type": "markdown",
   "id": "efa4c07d-e11f-478f-ac40-82b38dd24ae4",
   "metadata": {},
   "source": [
    "*ROC curve*    \n",
    "The graph shows of pairs (true positive/false positive) across all possible classification thresholds (classification decisions) confirms that the model is quite good at classifying the data. The True Positive Rate is high and the False Positive Rate is low.\n",
    "\n",
    "In the context of classification models, \"across all possible classification thresholds\" refers to the range of values that can be used to determine whether a sample is classified as belonging to a particular class (e.g., positive or negative).\n",
    "\n",
    "*AUC scores*  \n",
    "A model that has an AUC score of 0.0 is entirely wrong   \n",
    "A model that has an AUC score of 1.0 is entirely correct   \n",
    "A model that has an AUC score of < 0.5 is a model that performs worse than random classification   \n",
    "A model that has an AUC score of > 0.5 is a model that performs better than random classification   \n",
    "\n",
    "This model has an AUC score of ~80%, which suggests that the model has better overall performance (over all possible classification thresholds) in distinguishing between positive and negative classes.\n",
    "\n",
    "The AUC evaluates the model's ability to discriminate between positive and negative instances across various thresholds.\n"
   ]
  },
  {
   "cell_type": "markdown",
   "id": "3f1c5829-1d02-415a-be7b-5da2ee2368c3",
   "metadata": {},
   "source": [
    "## Results of Logistic regression\n",
    "This model used the variable Inflight entertainment as the independent predictive variable to predicate whether the inflight entertainment experiences of previous customers would suggest future customer satisfaction. Previous customers rated their inflight entertainment experiences using a 1-5 rating scale. These customers had at the same time the opportunity to judge their overall satisfaction of their airline experience by selecting yes or no. This binary variable ‘satisfaction’ served as the dependent y variable for the logistic regressive model. The model predicts a strong and steady correlation between those who rated inflight entertainment highly and their general satisfaction with airline experience. The more customers said they enjoyed the inflight entertainment, the more likely they were to be satisfied.\n",
    "\n",
    "On the whole, previous customers were fairly split in their satisfaction with their overall experience of the airline. ~55% of customers were satisfied and ~45% were dissatisfied. From the 38,847people in the test data, 21,208 were satisfied. Of those, the model captures 17423 - missing fewer than 4,000 satisfied customers. Since the goal of this project is to identify whether the inflight entertainment experiences of previous customers would suggest future customer satisfaction, this model is very good at correctly identifying satisfied customers and predicting their satisfaction based solely on their previous inflight entertainment experience. It scored ~82% on both recall and precision scores (with a f1 of ~82%), thus it has an equally high ability to identify satisfied or unsatisfied customers and an equally low chance of falsely identifying satisfied or unsatisfied customers (Type I and Type II errors). Further demonstrating this model's efficacy, it achieved an AUC score of ~80%, which suggests that it has better overall performance (over all possible classification thresholds) in distinguishing between positive and negative classes.\n",
    "\n",
    "In an effort to identify even more satisfied customers based on their previous inflight entertainment experience, the model could be optimized based on recall score. However, if it is so tuned, it will become more sensitive to finding satisfied people and can be prone to incorrectly categorizing people as satisfied (false-positives/Type-I error) when they are dissatisfied, thereby giving a false impression of satisfaction. If, on the other hand, the airline would prefer to play it safe, the model could be optimized based on precision score. This would lead to the model attempting to reduce the occurrences of incorrectly classifying people as satisfied when they are dissatisfied (false positives/Type I errors). However, in its goal to be precise (not classify people as satisfied when they are dissatisfied), the algorithm can become more selective. A higher rate of precision may mean that more samples are classified as dissatisfied, when then are satisfied (false-negative/Type II errors). Thus, satisfied customers can be missed which could lead to the airline making changes where none are needed.\n",
    "The success of the model indicates that the airline should focus attention on their inflight entertainment service, either leaving it as it is or continuing to improve it based on customer feedback. As the model scored an ~82% on accuracy, this is far better predictor than the ~55% satisfaction rating for the overall dataset."
   ]
  },
  {
   "cell_type": "markdown",
   "id": "3a177389-6f8e-445d-bccc-765eaad9fa35",
   "metadata": {},
   "source": [
    "### Continued in Invistico 2nd Case: decision trees"
   ]
  }
 ],
 "metadata": {
  "kernelspec": {
   "display_name": "Python 3 (ipykernel)",
   "language": "python",
   "name": "python3"
  },
  "language_info": {
   "codemirror_mode": {
    "name": "ipython",
    "version": 3
   },
   "file_extension": ".py",
   "mimetype": "text/x-python",
   "name": "python",
   "nbconvert_exporter": "python",
   "pygments_lexer": "ipython3",
   "version": "3.11.6"
  }
 },
 "nbformat": 4,
 "nbformat_minor": 5
}
